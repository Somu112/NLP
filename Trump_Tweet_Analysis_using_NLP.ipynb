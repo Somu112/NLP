{
  "nbformat": 4,
  "nbformat_minor": 0,
  "metadata": {
    "colab": {
      "name": "Trump Tweet Analysis using NLP",
      "provenance": [],
      "collapsed_sections": [],
      "authorship_tag": "ABX9TyO7yBXtm4lJ1Bk92sbd7syh",
      "include_colab_link": true
    },
    "kernelspec": {
      "name": "python3",
      "display_name": "Python 3"
    },
    "language_info": {
      "name": "python"
    },
    "accelerator": "GPU"
  },
  "cells": [
    {
      "cell_type": "markdown",
      "metadata": {
        "id": "view-in-github",
        "colab_type": "text"
      },
      "source": [
        "<a href=\"https://colab.research.google.com/github/Somu112/NLP/blob/main/Trump_Tweet_Analysis_using_NLP.ipynb\" target=\"_parent\"><img src=\"https://colab.research.google.com/assets/colab-badge.svg\" alt=\"Open In Colab\"/></a>"
      ]
    },
    {
      "cell_type": "code",
      "metadata": {
        "id": "_bsLBM0xL-KM",
        "colab": {
          "base_uri": "https://localhost:8080/"
        },
        "outputId": "05a412db-6f5d-4931-c31a-6ee2e29bc3d5"
      },
      "source": [
        "!nvidia-smi"
      ],
      "execution_count": 1,
      "outputs": [
        {
          "output_type": "stream",
          "name": "stdout",
          "text": [
            "Tue Nov  2 01:17:34 2021       \n",
            "+-----------------------------------------------------------------------------+\n",
            "| NVIDIA-SMI 495.29.05    Driver Version: 460.32.03    CUDA Version: 11.2     |\n",
            "|-------------------------------+----------------------+----------------------+\n",
            "| GPU  Name        Persistence-M| Bus-Id        Disp.A | Volatile Uncorr. ECC |\n",
            "| Fan  Temp  Perf  Pwr:Usage/Cap|         Memory-Usage | GPU-Util  Compute M. |\n",
            "|                               |                      |               MIG M. |\n",
            "|===============================+======================+======================|\n",
            "|   0  Tesla K80           Off  | 00000000:00:04.0 Off |                    0 |\n",
            "| N/A   35C    P8    27W / 149W |      0MiB / 11441MiB |      0%      Default |\n",
            "|                               |                      |                  N/A |\n",
            "+-------------------------------+----------------------+----------------------+\n",
            "                                                                               \n",
            "+-----------------------------------------------------------------------------+\n",
            "| Processes:                                                                  |\n",
            "|  GPU   GI   CI        PID   Type   Process name                  GPU Memory |\n",
            "|        ID   ID                                                   Usage      |\n",
            "|=============================================================================|\n",
            "|  No running processes found                                                 |\n",
            "+-----------------------------------------------------------------------------+\n"
          ]
        }
      ]
    },
    {
      "cell_type": "markdown",
      "metadata": {
        "id": "FE4L_7tCdN1Y"
      },
      "source": [
        "# **Text Pre-Processing**"
      ]
    },
    {
      "cell_type": "markdown",
      "metadata": {
        "id": "T3Rhjd29dqLn"
      },
      "source": [
        "Text pre-processing is technique of deriving meaningful information from Natural text for further analysis using NLP.\n",
        "\n",
        "It usually involves the process of structuring the input text. deriving patters within the structure data. and finally evaluating and interpreting the output."
      ]
    },
    {
      "cell_type": "markdown",
      "metadata": {
        "id": "JMRZhOpCeaz2"
      },
      "source": [
        "**Scenario 1. Trump Tweet Analysis using NLP**"
      ]
    },
    {
      "cell_type": "markdown",
      "metadata": {
        "id": "JDIbKbLsgBFz"
      },
      "source": [
        "**Topic Covered**\n",
        "  * Tokenization\n",
        "  * Ngram\n",
        "  * Stemming\n",
        "  * Lemmatization\n",
        "  * Stop words removal\n",
        "  * POS tags\n",
        "  * Named Entity Recognition(NER)"
      ]
    },
    {
      "cell_type": "code",
      "metadata": {
        "colab": {
          "base_uri": "https://localhost:8080/"
        },
        "id": "tWziaOehc3YR",
        "outputId": "f701bd23-d9d2-4110-ecd1-a2927109de63"
      },
      "source": [
        "!pip install nltk"
      ],
      "execution_count": 2,
      "outputs": [
        {
          "output_type": "stream",
          "name": "stdout",
          "text": [
            "Requirement already satisfied: nltk in /usr/local/lib/python3.7/dist-packages (3.2.5)\n",
            "Requirement already satisfied: six in /usr/local/lib/python3.7/dist-packages (from nltk) (1.15.0)\n"
          ]
        }
      ]
    },
    {
      "cell_type": "code",
      "metadata": {
        "colab": {
          "base_uri": "https://localhost:8080/"
        },
        "id": "4YlzL5hdgH16",
        "outputId": "03da62aa-276e-4abd-cee5-cab879649233"
      },
      "source": [
        "import nltk\n",
        "nltk.download(\"punkt\")\n",
        "nltk.download(\"stopwords\")\n",
        "nltk.download(\"wordnet\")\n",
        "nltk.download(\"words\")\n",
        "nltk.download(\"maxent_ne_chunker\")\n",
        "nltk.download(\"averaged_perceptron_tagger\")"
      ],
      "execution_count": 3,
      "outputs": [
        {
          "output_type": "stream",
          "name": "stdout",
          "text": [
            "[nltk_data] Downloading package punkt to /root/nltk_data...\n",
            "[nltk_data]   Package punkt is already up-to-date!\n",
            "[nltk_data] Downloading package stopwords to /root/nltk_data...\n",
            "[nltk_data]   Package stopwords is already up-to-date!\n",
            "[nltk_data] Downloading package wordnet to /root/nltk_data...\n",
            "[nltk_data]   Package wordnet is already up-to-date!\n",
            "[nltk_data] Downloading package words to /root/nltk_data...\n",
            "[nltk_data]   Package words is already up-to-date!\n",
            "[nltk_data] Downloading package maxent_ne_chunker to\n",
            "[nltk_data]     /root/nltk_data...\n",
            "[nltk_data]   Package maxent_ne_chunker is already up-to-date!\n",
            "[nltk_data] Downloading package averaged_perceptron_tagger to\n",
            "[nltk_data]     /root/nltk_data...\n",
            "[nltk_data]   Package averaged_perceptron_tagger is already up-to-\n",
            "[nltk_data]       date!\n"
          ]
        },
        {
          "output_type": "execute_result",
          "data": {
            "text/plain": [
              "True"
            ]
          },
          "metadata": {},
          "execution_count": 3
        }
      ]
    },
    {
      "cell_type": "code",
      "metadata": {
        "id": "SrOsP-cLgtku"
      },
      "source": [
        "import pandas as pd\n",
        "import numpy as np\n",
        "import matplotlib.pyplot as plt\n",
        "%matplotlib inline\n",
        "import re\n",
        "import nltk"
      ],
      "execution_count": 4,
      "outputs": []
    },
    {
      "cell_type": "code",
      "metadata": {
        "colab": {
          "base_uri": "https://localhost:8080/"
        },
        "id": "RsSdGO82hJRD",
        "outputId": "b39529c9-a10f-4ddf-cfe7-eb71f6fac189"
      },
      "source": [
        "!wget https://www.dropbox.com/s/v0gmlmnxiqt1vga/Donald-Tweets%21.csv?dl=0"
      ],
      "execution_count": 5,
      "outputs": [
        {
          "output_type": "stream",
          "name": "stdout",
          "text": [
            "--2021-11-02 01:17:40--  https://www.dropbox.com/s/v0gmlmnxiqt1vga/Donald-Tweets%21.csv?dl=0\n",
            "Resolving www.dropbox.com (www.dropbox.com)... 162.125.81.18, 2620:100:6031:18::a27d:5112\n",
            "Connecting to www.dropbox.com (www.dropbox.com)|162.125.81.18|:443... connected.\n",
            "HTTP request sent, awaiting response... 301 Moved Permanently\n",
            "Location: /s/raw/v0gmlmnxiqt1vga/Donald-Tweets%21.csv [following]\n",
            "--2021-11-02 01:17:41--  https://www.dropbox.com/s/raw/v0gmlmnxiqt1vga/Donald-Tweets%21.csv\n",
            "Reusing existing connection to www.dropbox.com:443.\n",
            "HTTP request sent, awaiting response... 302 Found\n",
            "Location: https://uc4595af8ee665aae8fa75b373e8.dl.dropboxusercontent.com/cd/0/inline/BZIUQQip10ggh0syJJOqaCknTa14ABkcwsBjQqFsLpbBPTwLlOjulaZWvEqL9-zSQ9DJcfW3cUrCdKiMY53JaIliMWV8iGhpy1V4csWzXhzY6cuzSoOBaduhB33H87Jv3owr7XgAUR6gd-5k9VFEfFb_/file# [following]\n",
            "--2021-11-02 01:17:41--  https://uc4595af8ee665aae8fa75b373e8.dl.dropboxusercontent.com/cd/0/inline/BZIUQQip10ggh0syJJOqaCknTa14ABkcwsBjQqFsLpbBPTwLlOjulaZWvEqL9-zSQ9DJcfW3cUrCdKiMY53JaIliMWV8iGhpy1V4csWzXhzY6cuzSoOBaduhB33H87Jv3owr7XgAUR6gd-5k9VFEfFb_/file\n",
            "Resolving uc4595af8ee665aae8fa75b373e8.dl.dropboxusercontent.com (uc4595af8ee665aae8fa75b373e8.dl.dropboxusercontent.com)... 162.125.81.15, 2620:100:6034:15::a27d:540f\n",
            "Connecting to uc4595af8ee665aae8fa75b373e8.dl.dropboxusercontent.com (uc4595af8ee665aae8fa75b373e8.dl.dropboxusercontent.com)|162.125.81.15|:443... connected.\n",
            "HTTP request sent, awaiting response... 200 OK\n",
            "Length: 1703362 (1.6M) [text/plain]\n",
            "Saving to: ‘Donald-Tweets!.csv?dl=0.1’\n",
            "\n",
            "Donald-Tweets!.csv? 100%[===================>]   1.62M  5.04MB/s    in 0.3s    \n",
            "\n",
            "2021-11-02 01:17:42 (5.04 MB/s) - ‘Donald-Tweets!.csv?dl=0.1’ saved [1703362/1703362]\n",
            "\n"
          ]
        }
      ]
    },
    {
      "cell_type": "code",
      "metadata": {
        "colab": {
          "base_uri": "https://localhost:8080/",
          "height": 588
        },
        "id": "OT3FMc7Th8tO",
        "outputId": "f2bcae0b-5b3b-46a8-ec24-1c4474d8c4bb"
      },
      "source": [
        "tweet = pd.read_csv(\"Donald-Tweets!.csv?dl=0\")\n",
        "tweet.head()"
      ],
      "execution_count": 6,
      "outputs": [
        {
          "output_type": "execute_result",
          "data": {
            "text/html": [
              "<div>\n",
              "<style scoped>\n",
              "    .dataframe tbody tr th:only-of-type {\n",
              "        vertical-align: middle;\n",
              "    }\n",
              "\n",
              "    .dataframe tbody tr th {\n",
              "        vertical-align: top;\n",
              "    }\n",
              "\n",
              "    .dataframe thead th {\n",
              "        text-align: right;\n",
              "    }\n",
              "</style>\n",
              "<table border=\"1\" class=\"dataframe\">\n",
              "  <thead>\n",
              "    <tr style=\"text-align: right;\">\n",
              "      <th></th>\n",
              "      <th>Date</th>\n",
              "      <th>Time</th>\n",
              "      <th>Tweet_Text</th>\n",
              "      <th>Type</th>\n",
              "      <th>Media_Type</th>\n",
              "      <th>Hashtags</th>\n",
              "      <th>Tweet_Id</th>\n",
              "      <th>Tweet_Url</th>\n",
              "      <th>twt_favourites_IS_THIS_LIKE_QUESTION_MARK</th>\n",
              "      <th>Retweets</th>\n",
              "      <th>Unnamed: 10</th>\n",
              "      <th>Unnamed: 11</th>\n",
              "    </tr>\n",
              "  </thead>\n",
              "  <tbody>\n",
              "    <tr>\n",
              "      <th>0</th>\n",
              "      <td>16-11-11</td>\n",
              "      <td>15:26:37</td>\n",
              "      <td>Today we express our deepest gratitude to all ...</td>\n",
              "      <td>text</td>\n",
              "      <td>photo</td>\n",
              "      <td>ThankAVet</td>\n",
              "      <td>7.970000e+17</td>\n",
              "      <td>https://twitter.com/realDonaldTrump/status/797...</td>\n",
              "      <td>127213</td>\n",
              "      <td>41112</td>\n",
              "      <td>NaN</td>\n",
              "      <td>NaN</td>\n",
              "    </tr>\n",
              "    <tr>\n",
              "      <th>1</th>\n",
              "      <td>16-11-11</td>\n",
              "      <td>13:33:35</td>\n",
              "      <td>Busy day planned in New York. Will soon be mak...</td>\n",
              "      <td>text</td>\n",
              "      <td>NaN</td>\n",
              "      <td>NaN</td>\n",
              "      <td>7.970000e+17</td>\n",
              "      <td>https://twitter.com/realDonaldTrump/status/797...</td>\n",
              "      <td>141527</td>\n",
              "      <td>28654</td>\n",
              "      <td>NaN</td>\n",
              "      <td>NaN</td>\n",
              "    </tr>\n",
              "    <tr>\n",
              "      <th>2</th>\n",
              "      <td>16-11-11</td>\n",
              "      <td>11:14:20</td>\n",
              "      <td>Love the fact that the small groups of protest...</td>\n",
              "      <td>text</td>\n",
              "      <td>NaN</td>\n",
              "      <td>NaN</td>\n",
              "      <td>7.970000e+17</td>\n",
              "      <td>https://twitter.com/realDonaldTrump/status/797...</td>\n",
              "      <td>183729</td>\n",
              "      <td>50039</td>\n",
              "      <td>NaN</td>\n",
              "      <td>NaN</td>\n",
              "    </tr>\n",
              "    <tr>\n",
              "      <th>3</th>\n",
              "      <td>16-11-11</td>\n",
              "      <td>2:19:44</td>\n",
              "      <td>Just had a very open and successful presidenti...</td>\n",
              "      <td>text</td>\n",
              "      <td>NaN</td>\n",
              "      <td>NaN</td>\n",
              "      <td>7.970000e+17</td>\n",
              "      <td>https://twitter.com/realDonaldTrump/status/796...</td>\n",
              "      <td>214001</td>\n",
              "      <td>67010</td>\n",
              "      <td>NaN</td>\n",
              "      <td>NaN</td>\n",
              "    </tr>\n",
              "    <tr>\n",
              "      <th>4</th>\n",
              "      <td>16-11-11</td>\n",
              "      <td>2:10:46</td>\n",
              "      <td>A fantastic day in D.C. Met with President Oba...</td>\n",
              "      <td>text</td>\n",
              "      <td>NaN</td>\n",
              "      <td>NaN</td>\n",
              "      <td>7.970000e+17</td>\n",
              "      <td>https://twitter.com/realDonaldTrump/status/796...</td>\n",
              "      <td>178499</td>\n",
              "      <td>36688</td>\n",
              "      <td>NaN</td>\n",
              "      <td>NaN</td>\n",
              "    </tr>\n",
              "  </tbody>\n",
              "</table>\n",
              "</div>"
            ],
            "text/plain": [
              "       Date      Time  ... Unnamed: 10 Unnamed: 11\n",
              "0  16-11-11  15:26:37  ...         NaN         NaN\n",
              "1  16-11-11  13:33:35  ...         NaN         NaN\n",
              "2  16-11-11  11:14:20  ...         NaN         NaN\n",
              "3  16-11-11   2:19:44  ...         NaN         NaN\n",
              "4  16-11-11   2:10:46  ...         NaN         NaN\n",
              "\n",
              "[5 rows x 12 columns]"
            ]
          },
          "metadata": {},
          "execution_count": 6
        }
      ]
    },
    {
      "cell_type": "code",
      "metadata": {
        "colab": {
          "base_uri": "https://localhost:8080/"
        },
        "id": "fYPln_w_iZNX",
        "outputId": "a55e26a2-5ba0-4a8f-8443-c66196b63a9c"
      },
      "source": [
        "tweet.info()"
      ],
      "execution_count": 7,
      "outputs": [
        {
          "output_type": "stream",
          "name": "stdout",
          "text": [
            "<class 'pandas.core.frame.DataFrame'>\n",
            "RangeIndex: 7375 entries, 0 to 7374\n",
            "Data columns (total 12 columns):\n",
            " #   Column                                     Non-Null Count  Dtype  \n",
            "---  ------                                     --------------  -----  \n",
            " 0   Date                                       7375 non-null   object \n",
            " 1   Time                                       7375 non-null   object \n",
            " 2   Tweet_Text                                 7375 non-null   object \n",
            " 3   Type                                       7375 non-null   object \n",
            " 4   Media_Type                                 1225 non-null   object \n",
            " 5   Hashtags                                   2031 non-null   object \n",
            " 6   Tweet_Id                                   7375 non-null   float64\n",
            " 7   Tweet_Url                                  7375 non-null   object \n",
            " 8   twt_favourites_IS_THIS_LIKE_QUESTION_MARK  7375 non-null   int64  \n",
            " 9   Retweets                                   7375 non-null   int64  \n",
            " 10  Unnamed: 10                                26 non-null     float64\n",
            " 11  Unnamed: 11                                13 non-null     float64\n",
            "dtypes: float64(3), int64(2), object(7)\n",
            "memory usage: 691.5+ KB\n"
          ]
        }
      ]
    },
    {
      "cell_type": "code",
      "metadata": {
        "id": "NKsTcm_hiiZJ"
      },
      "source": [
        "tweet.drop(columns=[\"Unnamed: 10\",\"Unnamed: 11\"],inplace=True)"
      ],
      "execution_count": 8,
      "outputs": []
    },
    {
      "cell_type": "code",
      "metadata": {
        "colab": {
          "base_uri": "https://localhost:8080/",
          "height": 571
        },
        "id": "0D5Mhu-ui6gh",
        "outputId": "868c0688-b522-4be6-a4d7-63bc2799462d"
      },
      "source": [
        "tweet.head()"
      ],
      "execution_count": 9,
      "outputs": [
        {
          "output_type": "execute_result",
          "data": {
            "text/html": [
              "<div>\n",
              "<style scoped>\n",
              "    .dataframe tbody tr th:only-of-type {\n",
              "        vertical-align: middle;\n",
              "    }\n",
              "\n",
              "    .dataframe tbody tr th {\n",
              "        vertical-align: top;\n",
              "    }\n",
              "\n",
              "    .dataframe thead th {\n",
              "        text-align: right;\n",
              "    }\n",
              "</style>\n",
              "<table border=\"1\" class=\"dataframe\">\n",
              "  <thead>\n",
              "    <tr style=\"text-align: right;\">\n",
              "      <th></th>\n",
              "      <th>Date</th>\n",
              "      <th>Time</th>\n",
              "      <th>Tweet_Text</th>\n",
              "      <th>Type</th>\n",
              "      <th>Media_Type</th>\n",
              "      <th>Hashtags</th>\n",
              "      <th>Tweet_Id</th>\n",
              "      <th>Tweet_Url</th>\n",
              "      <th>twt_favourites_IS_THIS_LIKE_QUESTION_MARK</th>\n",
              "      <th>Retweets</th>\n",
              "    </tr>\n",
              "  </thead>\n",
              "  <tbody>\n",
              "    <tr>\n",
              "      <th>0</th>\n",
              "      <td>16-11-11</td>\n",
              "      <td>15:26:37</td>\n",
              "      <td>Today we express our deepest gratitude to all ...</td>\n",
              "      <td>text</td>\n",
              "      <td>photo</td>\n",
              "      <td>ThankAVet</td>\n",
              "      <td>7.970000e+17</td>\n",
              "      <td>https://twitter.com/realDonaldTrump/status/797...</td>\n",
              "      <td>127213</td>\n",
              "      <td>41112</td>\n",
              "    </tr>\n",
              "    <tr>\n",
              "      <th>1</th>\n",
              "      <td>16-11-11</td>\n",
              "      <td>13:33:35</td>\n",
              "      <td>Busy day planned in New York. Will soon be mak...</td>\n",
              "      <td>text</td>\n",
              "      <td>NaN</td>\n",
              "      <td>NaN</td>\n",
              "      <td>7.970000e+17</td>\n",
              "      <td>https://twitter.com/realDonaldTrump/status/797...</td>\n",
              "      <td>141527</td>\n",
              "      <td>28654</td>\n",
              "    </tr>\n",
              "    <tr>\n",
              "      <th>2</th>\n",
              "      <td>16-11-11</td>\n",
              "      <td>11:14:20</td>\n",
              "      <td>Love the fact that the small groups of protest...</td>\n",
              "      <td>text</td>\n",
              "      <td>NaN</td>\n",
              "      <td>NaN</td>\n",
              "      <td>7.970000e+17</td>\n",
              "      <td>https://twitter.com/realDonaldTrump/status/797...</td>\n",
              "      <td>183729</td>\n",
              "      <td>50039</td>\n",
              "    </tr>\n",
              "    <tr>\n",
              "      <th>3</th>\n",
              "      <td>16-11-11</td>\n",
              "      <td>2:19:44</td>\n",
              "      <td>Just had a very open and successful presidenti...</td>\n",
              "      <td>text</td>\n",
              "      <td>NaN</td>\n",
              "      <td>NaN</td>\n",
              "      <td>7.970000e+17</td>\n",
              "      <td>https://twitter.com/realDonaldTrump/status/796...</td>\n",
              "      <td>214001</td>\n",
              "      <td>67010</td>\n",
              "    </tr>\n",
              "    <tr>\n",
              "      <th>4</th>\n",
              "      <td>16-11-11</td>\n",
              "      <td>2:10:46</td>\n",
              "      <td>A fantastic day in D.C. Met with President Oba...</td>\n",
              "      <td>text</td>\n",
              "      <td>NaN</td>\n",
              "      <td>NaN</td>\n",
              "      <td>7.970000e+17</td>\n",
              "      <td>https://twitter.com/realDonaldTrump/status/796...</td>\n",
              "      <td>178499</td>\n",
              "      <td>36688</td>\n",
              "    </tr>\n",
              "  </tbody>\n",
              "</table>\n",
              "</div>"
            ],
            "text/plain": [
              "       Date      Time  ... twt_favourites_IS_THIS_LIKE_QUESTION_MARK Retweets\n",
              "0  16-11-11  15:26:37  ...                                    127213    41112\n",
              "1  16-11-11  13:33:35  ...                                    141527    28654\n",
              "2  16-11-11  11:14:20  ...                                    183729    50039\n",
              "3  16-11-11   2:19:44  ...                                    214001    67010\n",
              "4  16-11-11   2:10:46  ...                                    178499    36688\n",
              "\n",
              "[5 rows x 10 columns]"
            ]
          },
          "metadata": {},
          "execution_count": 9
        }
      ]
    },
    {
      "cell_type": "code",
      "metadata": {
        "id": "ZZIVfb8dvFcu"
      },
      "source": [
        "import re"
      ],
      "execution_count": 10,
      "outputs": []
    },
    {
      "cell_type": "markdown",
      "metadata": {
        "id": "AfTEh3G6jXA8"
      },
      "source": [
        "**Ques. Find out how often did trump tweet in 2017**"
      ]
    },
    {
      "cell_type": "code",
      "metadata": {
        "colab": {
          "base_uri": "https://localhost:8080/",
          "height": 455
        },
        "id": "oktnrS2yjTd7",
        "outputId": "661c9738-e5b0-4abb-bf9b-d78f803695b7"
      },
      "source": [
        "tweet_by_date = tweet.copy()\n",
        "tweet_by_date['Date'] = pd.to_datetime(tweet['Date'], yearfirst=True)\n",
        "tweet_by_date['Date'] = tweet_by_date['Date'].dt.month\n",
        "tweet_by_date = pd.DataFrame(tweet_by_date.groupby(['Date']).size().sort_values(ascending=True).rename('Tweets'))\n",
        "tweet_by_date"
      ],
      "execution_count": 11,
      "outputs": [
        {
          "output_type": "execute_result",
          "data": {
            "text/html": [
              "<div>\n",
              "<style scoped>\n",
              "    .dataframe tbody tr th:only-of-type {\n",
              "        vertical-align: middle;\n",
              "    }\n",
              "\n",
              "    .dataframe tbody tr th {\n",
              "        vertical-align: top;\n",
              "    }\n",
              "\n",
              "    .dataframe thead th {\n",
              "        text-align: right;\n",
              "    }\n",
              "</style>\n",
              "<table border=\"1\" class=\"dataframe\">\n",
              "  <thead>\n",
              "    <tr style=\"text-align: right;\">\n",
              "      <th></th>\n",
              "      <th>Tweets</th>\n",
              "    </tr>\n",
              "    <tr>\n",
              "      <th>Date</th>\n",
              "      <th></th>\n",
              "    </tr>\n",
              "  </thead>\n",
              "  <tbody>\n",
              "    <tr>\n",
              "      <th>6</th>\n",
              "      <td>258</td>\n",
              "    </tr>\n",
              "    <tr>\n",
              "      <th>4</th>\n",
              "      <td>287</td>\n",
              "    </tr>\n",
              "    <tr>\n",
              "      <th>5</th>\n",
              "      <td>357</td>\n",
              "    </tr>\n",
              "    <tr>\n",
              "      <th>3</th>\n",
              "      <td>456</td>\n",
              "    </tr>\n",
              "    <tr>\n",
              "      <th>1</th>\n",
              "      <td>507</td>\n",
              "    </tr>\n",
              "    <tr>\n",
              "      <th>2</th>\n",
              "      <td>516</td>\n",
              "    </tr>\n",
              "    <tr>\n",
              "      <th>12</th>\n",
              "      <td>579</td>\n",
              "    </tr>\n",
              "    <tr>\n",
              "      <th>11</th>\n",
              "      <td>709</td>\n",
              "    </tr>\n",
              "    <tr>\n",
              "      <th>8</th>\n",
              "      <td>726</td>\n",
              "    </tr>\n",
              "    <tr>\n",
              "      <th>9</th>\n",
              "      <td>740</td>\n",
              "    </tr>\n",
              "    <tr>\n",
              "      <th>7</th>\n",
              "      <td>893</td>\n",
              "    </tr>\n",
              "    <tr>\n",
              "      <th>10</th>\n",
              "      <td>1347</td>\n",
              "    </tr>\n",
              "  </tbody>\n",
              "</table>\n",
              "</div>"
            ],
            "text/plain": [
              "      Tweets\n",
              "Date        \n",
              "6        258\n",
              "4        287\n",
              "5        357\n",
              "3        456\n",
              "1        507\n",
              "2        516\n",
              "12       579\n",
              "11       709\n",
              "8        726\n",
              "9        740\n",
              "7        893\n",
              "10      1347"
            ]
          },
          "metadata": {},
          "execution_count": 11
        }
      ]
    },
    {
      "cell_type": "markdown",
      "metadata": {
        "id": "HKhnyO0pk0t_"
      },
      "source": [
        "We can see that he tweetted more in the tenth month of 2017"
      ]
    },
    {
      "cell_type": "markdown",
      "metadata": {
        "id": "T_j0--dTlsdF"
      },
      "source": [
        "****Ques3: Clean the data(Use function from python library such as re, string and NLTK to remove these unnecessary elements) and store cleaned data as a seperate column to the DataFrame**"
      ]
    },
    {
      "cell_type": "markdown",
      "metadata": {
        "id": "u-CVLHNMmbSI"
      },
      "source": [
        "Observe that the tweet contains various elements such as 'punctuations marks' Use functions from python libraries such as re, string and NLTK to remove these unnecessary elements"
      ]
    },
    {
      "cell_type": "code",
      "metadata": {
        "id": "n3D7k1HtjFjw"
      },
      "source": [
        "import string, re\n",
        "from nltk.tokenize import word_tokenize\n",
        "from nltk.corpus import stopwords"
      ],
      "execution_count": 12,
      "outputs": []
    },
    {
      "cell_type": "code",
      "metadata": {
        "id": "xepMQsC2msBq"
      },
      "source": [
        "def clean_text(tweet):\n",
        "  tweet = word_tokenize(tweet) #create token\n",
        "  tweet = tweet[4:] # remove RT@\n",
        "  tweet = \" \".join(tweet) # Join Tokens\n",
        "  tweet = re.sub(\"https\",'',tweet) # Remove 'https' txts with blanks\n",
        "  tweet = [char for char in tweet if char not in string.punctuation] # Remove punctuantion\n",
        "  tweet = ''.join(tweet) # join the letter\n",
        "  tweet = [word for word in tweet.split() if word.lower() not in stopwords.words(\"english\")]\n",
        "  return \" \".join(tweet)"
      ],
      "execution_count": 13,
      "outputs": []
    },
    {
      "cell_type": "code",
      "metadata": {
        "id": "AsJiS_cVolJT"
      },
      "source": [
        "tweet['cleaned_text'] = tweet['Tweet_Text'].apply(clean_text)"
      ],
      "execution_count": 14,
      "outputs": []
    },
    {
      "cell_type": "code",
      "metadata": {
        "colab": {
          "base_uri": "https://localhost:8080/"
        },
        "id": "kucN-TlPo00x",
        "outputId": "2e5ea9d7-3157-4afe-cdea-e91e293f9d2d"
      },
      "source": [
        "tweet['cleaned_text'].head()"
      ],
      "execution_count": 15,
      "outputs": [
        {
          "output_type": "execute_result",
          "data": {
            "text/plain": [
              "0    deepest gratitude served armed forces ThankAVe...\n",
              "1    New York soon making important decisions peopl...\n",
              "2    small groups protesters last night passion gre...\n",
              "3    open successful presidential election professi...\n",
              "4    DC Met President Obama first time Really good ...\n",
              "Name: cleaned_text, dtype: object"
            ]
          },
          "metadata": {},
          "execution_count": 15
        }
      ]
    },
    {
      "cell_type": "markdown",
      "metadata": {
        "id": "8NesBmLBpZN7"
      },
      "source": [
        "**Ques4: Process the data to remove elements which may cause isssue in analysis and store processed data as a separate column to the DataFrame**"
      ]
    },
    {
      "cell_type": "markdown",
      "metadata": {
        "id": "KDbq8NjXp42I"
      },
      "source": [
        "Apart from cleaning, data also needs to be processed to remove elements which may cause isssue in analysis. Examle of such elements are 'single characters'. multiple spaces'. 'upper-cased''apply various text pre-processing technique ne-by-one to the cleaned data\n",
        "  * Remove all the special characters\n",
        "  * remove single charecters appearing in the text except the start\n",
        "  * Remove single characters appearing at te start\n",
        "  * Substitute multiple spaces with a single cases Convert to Lowercase"
      ]
    },
    {
      "cell_type": "code",
      "metadata": {
        "id": "KpfLPtt9pRmR"
      },
      "source": [
        "features = tweet['cleaned_text']\n",
        "processed_features = []\n",
        "\n",
        "for sentence in range(0, len(features)):\n",
        "  # Remove all the special charcters\n",
        "  processed_feature = re.sub(r'\\W', ' ', str(features[sentence]))\n",
        "\n",
        "  # Remove single characters appearing in the text except the start\n",
        "  processed_feature = re.sub(r'\\s+[a-zA-Z]\\s+',' ', processed_feature)\n",
        "\n",
        "  # Remove single characters appearing at the start\n",
        "  processed_feature = re.sub(r'\\^[a-zA-Z]\\s+', ' ', processed_feature)\n",
        "\n",
        "  # Substitute multiple spaces with a single spaces\n",
        "  processed_feature = re.sub(r'\\s+', ' ', processed_feature)\n",
        "\n",
        "  # convert to the lowercase\n",
        "  processed_feature = processed_feature.lower()\n",
        "\n",
        "  processed_features.append(processed_feature)"
      ],
      "execution_count": 16,
      "outputs": []
    },
    {
      "cell_type": "code",
      "metadata": {
        "colab": {
          "base_uri": "https://localhost:8080/"
        },
        "id": "sxjI92x1t43N",
        "outputId": "bb71e912-6342-4d26-d9a7-f8f6b588aae2"
      },
      "source": [
        "processed_features[:5]"
      ],
      "execution_count": 17,
      "outputs": [
        {
          "output_type": "execute_result",
          "data": {
            "text/plain": [
              "['deepest gratitude served armed forces thankavet tcowpk7qwpk8z',\n",
              " 'new york soon making important decisions people running government',\n",
              " 'small groups protesters last night passion great country come together proud',\n",
              " 'open successful presidential election professional protesters incited media protesting unfair',\n",
              " 'dc met president obama first time really good meeting great chemistry melania liked mrs lot']"
            ]
          },
          "metadata": {},
          "execution_count": 17
        }
      ]
    },
    {
      "cell_type": "code",
      "metadata": {
        "id": "ijGpqwuoxClp"
      },
      "source": [
        "tweet['processed_text'] = processed_features"
      ],
      "execution_count": 18,
      "outputs": []
    },
    {
      "cell_type": "code",
      "metadata": {
        "colab": {
          "base_uri": "https://localhost:8080/",
          "height": 571
        },
        "id": "DAzl5Tp8xQxr",
        "outputId": "902df91d-c73f-4202-b17d-9bd185f05638"
      },
      "source": [
        "tweet.head()"
      ],
      "execution_count": 19,
      "outputs": [
        {
          "output_type": "execute_result",
          "data": {
            "text/html": [
              "<div>\n",
              "<style scoped>\n",
              "    .dataframe tbody tr th:only-of-type {\n",
              "        vertical-align: middle;\n",
              "    }\n",
              "\n",
              "    .dataframe tbody tr th {\n",
              "        vertical-align: top;\n",
              "    }\n",
              "\n",
              "    .dataframe thead th {\n",
              "        text-align: right;\n",
              "    }\n",
              "</style>\n",
              "<table border=\"1\" class=\"dataframe\">\n",
              "  <thead>\n",
              "    <tr style=\"text-align: right;\">\n",
              "      <th></th>\n",
              "      <th>Date</th>\n",
              "      <th>Time</th>\n",
              "      <th>Tweet_Text</th>\n",
              "      <th>Type</th>\n",
              "      <th>Media_Type</th>\n",
              "      <th>Hashtags</th>\n",
              "      <th>Tweet_Id</th>\n",
              "      <th>Tweet_Url</th>\n",
              "      <th>twt_favourites_IS_THIS_LIKE_QUESTION_MARK</th>\n",
              "      <th>Retweets</th>\n",
              "      <th>cleaned_text</th>\n",
              "      <th>processed_text</th>\n",
              "    </tr>\n",
              "  </thead>\n",
              "  <tbody>\n",
              "    <tr>\n",
              "      <th>0</th>\n",
              "      <td>16-11-11</td>\n",
              "      <td>15:26:37</td>\n",
              "      <td>Today we express our deepest gratitude to all ...</td>\n",
              "      <td>text</td>\n",
              "      <td>photo</td>\n",
              "      <td>ThankAVet</td>\n",
              "      <td>7.970000e+17</td>\n",
              "      <td>https://twitter.com/realDonaldTrump/status/797...</td>\n",
              "      <td>127213</td>\n",
              "      <td>41112</td>\n",
              "      <td>deepest gratitude served armed forces ThankAVe...</td>\n",
              "      <td>deepest gratitude served armed forces thankave...</td>\n",
              "    </tr>\n",
              "    <tr>\n",
              "      <th>1</th>\n",
              "      <td>16-11-11</td>\n",
              "      <td>13:33:35</td>\n",
              "      <td>Busy day planned in New York. Will soon be mak...</td>\n",
              "      <td>text</td>\n",
              "      <td>NaN</td>\n",
              "      <td>NaN</td>\n",
              "      <td>7.970000e+17</td>\n",
              "      <td>https://twitter.com/realDonaldTrump/status/797...</td>\n",
              "      <td>141527</td>\n",
              "      <td>28654</td>\n",
              "      <td>New York soon making important decisions peopl...</td>\n",
              "      <td>new york soon making important decisions peopl...</td>\n",
              "    </tr>\n",
              "    <tr>\n",
              "      <th>2</th>\n",
              "      <td>16-11-11</td>\n",
              "      <td>11:14:20</td>\n",
              "      <td>Love the fact that the small groups of protest...</td>\n",
              "      <td>text</td>\n",
              "      <td>NaN</td>\n",
              "      <td>NaN</td>\n",
              "      <td>7.970000e+17</td>\n",
              "      <td>https://twitter.com/realDonaldTrump/status/797...</td>\n",
              "      <td>183729</td>\n",
              "      <td>50039</td>\n",
              "      <td>small groups protesters last night passion gre...</td>\n",
              "      <td>small groups protesters last night passion gre...</td>\n",
              "    </tr>\n",
              "    <tr>\n",
              "      <th>3</th>\n",
              "      <td>16-11-11</td>\n",
              "      <td>2:19:44</td>\n",
              "      <td>Just had a very open and successful presidenti...</td>\n",
              "      <td>text</td>\n",
              "      <td>NaN</td>\n",
              "      <td>NaN</td>\n",
              "      <td>7.970000e+17</td>\n",
              "      <td>https://twitter.com/realDonaldTrump/status/796...</td>\n",
              "      <td>214001</td>\n",
              "      <td>67010</td>\n",
              "      <td>open successful presidential election professi...</td>\n",
              "      <td>open successful presidential election professi...</td>\n",
              "    </tr>\n",
              "    <tr>\n",
              "      <th>4</th>\n",
              "      <td>16-11-11</td>\n",
              "      <td>2:10:46</td>\n",
              "      <td>A fantastic day in D.C. Met with President Oba...</td>\n",
              "      <td>text</td>\n",
              "      <td>NaN</td>\n",
              "      <td>NaN</td>\n",
              "      <td>7.970000e+17</td>\n",
              "      <td>https://twitter.com/realDonaldTrump/status/796...</td>\n",
              "      <td>178499</td>\n",
              "      <td>36688</td>\n",
              "      <td>DC Met President Obama first time Really good ...</td>\n",
              "      <td>dc met president obama first time really good ...</td>\n",
              "    </tr>\n",
              "  </tbody>\n",
              "</table>\n",
              "</div>"
            ],
            "text/plain": [
              "       Date  ...                                     processed_text\n",
              "0  16-11-11  ...  deepest gratitude served armed forces thankave...\n",
              "1  16-11-11  ...  new york soon making important decisions peopl...\n",
              "2  16-11-11  ...  small groups protesters last night passion gre...\n",
              "3  16-11-11  ...  open successful presidential election professi...\n",
              "4  16-11-11  ...  dc met president obama first time really good ...\n",
              "\n",
              "[5 rows x 12 columns]"
            ]
          },
          "metadata": {},
          "execution_count": 19
        }
      ]
    },
    {
      "cell_type": "markdown",
      "metadata": {
        "id": "DwYfEvpqxZGQ"
      },
      "source": [
        "**Ques5: Apply Ngrams to processed data and print first 3 rows**"
      ]
    },
    {
      "cell_type": "code",
      "metadata": {
        "id": "e1sJCe99xT_k"
      },
      "source": [
        "processed_text_ngrams = list(nltk.ngrams(tweet['processed_text'], 8))"
      ],
      "execution_count": 20,
      "outputs": []
    },
    {
      "cell_type": "code",
      "metadata": {
        "colab": {
          "base_uri": "https://localhost:8080/"
        },
        "id": "I3f57kGGx1HW",
        "outputId": "e5eaf132-4cd3-4701-a096-a62409d52a04"
      },
      "source": [
        "processed_text_ngrams[:3]"
      ],
      "execution_count": 21,
      "outputs": [
        {
          "output_type": "execute_result",
          "data": {
            "text/plain": [
              "[('deepest gratitude served armed forces thankavet tcowpk7qwpk8z',\n",
              "  'new york soon making important decisions people running government',\n",
              "  'small groups protesters last night passion great country come together proud',\n",
              "  'open successful presidential election professional protesters incited media protesting unfair',\n",
              "  'dc met president obama first time really good meeting great chemistry melania liked mrs lot',\n",
              "  'us marine corps thank service tcolz2dhrxzo4',\n",
              "  'important evening forgotten man woman never forgotten come together never',\n",
              "  '945pm electionnight maga tcohfujerzbod'),\n",
              " ('new york soon making important decisions people running government',\n",
              "  'small groups protesters last night passion great country come together proud',\n",
              "  'open successful presidential election professional protesters incited media protesting unfair',\n",
              "  'dc met president obama first time really good meeting great chemistry melania liked mrs lot',\n",
              "  'us marine corps thank service tcolz2dhrxzo4',\n",
              "  'important evening forgotten man woman never forgotten come together never',\n",
              "  '945pm electionnight maga tcohfujerzbod',\n",
              "  'surreal moment vote father president united states make voice heard vote election2'),\n",
              " ('small groups protesters last night passion great country come together proud',\n",
              "  'open successful presidential election professional protesters incited media protesting unfair',\n",
              "  'dc met president obama first time really good meeting great chemistry melania liked mrs lot',\n",
              "  'us marine corps thank service tcolz2dhrxzo4',\n",
              "  'important evening forgotten man woman never forgotten come together never',\n",
              "  '945pm electionnight maga tcohfujerzbod',\n",
              "  'surreal moment vote father president united states make voice heard vote election2',\n",
              "  'join family incredible movement makeamericagreatagain please vote america')]"
            ]
          },
          "metadata": {},
          "execution_count": 21
        }
      ]
    },
    {
      "cell_type": "markdown",
      "metadata": {
        "id": "s9qQBwH8yEFU"
      },
      "source": [
        "**Ques6: Apply porter stemmer technique to processed data and store stemmer(porter) data as a separate columns to the DataFrame**"
      ]
    },
    {
      "cell_type": "markdown",
      "metadata": {
        "id": "F2PG6aiJyjO-"
      },
      "source": [
        "Porter stemmer remove the commoner morphological endings from words in english"
      ]
    },
    {
      "cell_type": "code",
      "metadata": {
        "id": "0Aotrpu6x6U3"
      },
      "source": [
        "# stemming\n",
        "from nltk.stem.porter import PorterStemmer\n",
        "\n",
        "def get_stemmed_text(corpus):\n",
        "  stemmer = PorterStemmer()\n",
        "  return [' '.join([stemmer.stem(word) for word in review.split()]) for review in corpus]\n",
        "\n",
        "tweet['stemmedtext(porter)'] = get_stemmed_text(tweet['processed_text'])"
      ],
      "execution_count": 22,
      "outputs": []
    },
    {
      "cell_type": "code",
      "metadata": {
        "colab": {
          "base_uri": "https://localhost:8080/",
          "height": 571
        },
        "id": "7CYJNihKz8b5",
        "outputId": "2f3deeca-f243-4fe2-fbf5-bc54315e2589"
      },
      "source": [
        "tweet.head()"
      ],
      "execution_count": 23,
      "outputs": [
        {
          "output_type": "execute_result",
          "data": {
            "text/html": [
              "<div>\n",
              "<style scoped>\n",
              "    .dataframe tbody tr th:only-of-type {\n",
              "        vertical-align: middle;\n",
              "    }\n",
              "\n",
              "    .dataframe tbody tr th {\n",
              "        vertical-align: top;\n",
              "    }\n",
              "\n",
              "    .dataframe thead th {\n",
              "        text-align: right;\n",
              "    }\n",
              "</style>\n",
              "<table border=\"1\" class=\"dataframe\">\n",
              "  <thead>\n",
              "    <tr style=\"text-align: right;\">\n",
              "      <th></th>\n",
              "      <th>Date</th>\n",
              "      <th>Time</th>\n",
              "      <th>Tweet_Text</th>\n",
              "      <th>Type</th>\n",
              "      <th>Media_Type</th>\n",
              "      <th>Hashtags</th>\n",
              "      <th>Tweet_Id</th>\n",
              "      <th>Tweet_Url</th>\n",
              "      <th>twt_favourites_IS_THIS_LIKE_QUESTION_MARK</th>\n",
              "      <th>Retweets</th>\n",
              "      <th>cleaned_text</th>\n",
              "      <th>processed_text</th>\n",
              "      <th>stemmedtext(porter)</th>\n",
              "    </tr>\n",
              "  </thead>\n",
              "  <tbody>\n",
              "    <tr>\n",
              "      <th>0</th>\n",
              "      <td>16-11-11</td>\n",
              "      <td>15:26:37</td>\n",
              "      <td>Today we express our deepest gratitude to all ...</td>\n",
              "      <td>text</td>\n",
              "      <td>photo</td>\n",
              "      <td>ThankAVet</td>\n",
              "      <td>7.970000e+17</td>\n",
              "      <td>https://twitter.com/realDonaldTrump/status/797...</td>\n",
              "      <td>127213</td>\n",
              "      <td>41112</td>\n",
              "      <td>deepest gratitude served armed forces ThankAVe...</td>\n",
              "      <td>deepest gratitude served armed forces thankave...</td>\n",
              "      <td>deepest gratitud serv arm forc thankavet tcowp...</td>\n",
              "    </tr>\n",
              "    <tr>\n",
              "      <th>1</th>\n",
              "      <td>16-11-11</td>\n",
              "      <td>13:33:35</td>\n",
              "      <td>Busy day planned in New York. Will soon be mak...</td>\n",
              "      <td>text</td>\n",
              "      <td>NaN</td>\n",
              "      <td>NaN</td>\n",
              "      <td>7.970000e+17</td>\n",
              "      <td>https://twitter.com/realDonaldTrump/status/797...</td>\n",
              "      <td>141527</td>\n",
              "      <td>28654</td>\n",
              "      <td>New York soon making important decisions peopl...</td>\n",
              "      <td>new york soon making important decisions peopl...</td>\n",
              "      <td>new york soon make import decis peopl run govern</td>\n",
              "    </tr>\n",
              "    <tr>\n",
              "      <th>2</th>\n",
              "      <td>16-11-11</td>\n",
              "      <td>11:14:20</td>\n",
              "      <td>Love the fact that the small groups of protest...</td>\n",
              "      <td>text</td>\n",
              "      <td>NaN</td>\n",
              "      <td>NaN</td>\n",
              "      <td>7.970000e+17</td>\n",
              "      <td>https://twitter.com/realDonaldTrump/status/797...</td>\n",
              "      <td>183729</td>\n",
              "      <td>50039</td>\n",
              "      <td>small groups protesters last night passion gre...</td>\n",
              "      <td>small groups protesters last night passion gre...</td>\n",
              "      <td>small group protest last night passion great c...</td>\n",
              "    </tr>\n",
              "    <tr>\n",
              "      <th>3</th>\n",
              "      <td>16-11-11</td>\n",
              "      <td>2:19:44</td>\n",
              "      <td>Just had a very open and successful presidenti...</td>\n",
              "      <td>text</td>\n",
              "      <td>NaN</td>\n",
              "      <td>NaN</td>\n",
              "      <td>7.970000e+17</td>\n",
              "      <td>https://twitter.com/realDonaldTrump/status/796...</td>\n",
              "      <td>214001</td>\n",
              "      <td>67010</td>\n",
              "      <td>open successful presidential election professi...</td>\n",
              "      <td>open successful presidential election professi...</td>\n",
              "      <td>open success presidenti elect profession prote...</td>\n",
              "    </tr>\n",
              "    <tr>\n",
              "      <th>4</th>\n",
              "      <td>16-11-11</td>\n",
              "      <td>2:10:46</td>\n",
              "      <td>A fantastic day in D.C. Met with President Oba...</td>\n",
              "      <td>text</td>\n",
              "      <td>NaN</td>\n",
              "      <td>NaN</td>\n",
              "      <td>7.970000e+17</td>\n",
              "      <td>https://twitter.com/realDonaldTrump/status/796...</td>\n",
              "      <td>178499</td>\n",
              "      <td>36688</td>\n",
              "      <td>DC Met President Obama first time Really good ...</td>\n",
              "      <td>dc met president obama first time really good ...</td>\n",
              "      <td>dc met presid obama first time realli good mee...</td>\n",
              "    </tr>\n",
              "  </tbody>\n",
              "</table>\n",
              "</div>"
            ],
            "text/plain": [
              "       Date  ...                                stemmedtext(porter)\n",
              "0  16-11-11  ...  deepest gratitud serv arm forc thankavet tcowp...\n",
              "1  16-11-11  ...   new york soon make import decis peopl run govern\n",
              "2  16-11-11  ...  small group protest last night passion great c...\n",
              "3  16-11-11  ...  open success presidenti elect profession prote...\n",
              "4  16-11-11  ...  dc met presid obama first time realli good mee...\n",
              "\n",
              "[5 rows x 13 columns]"
            ]
          },
          "metadata": {},
          "execution_count": 23
        }
      ]
    },
    {
      "cell_type": "markdown",
      "metadata": {
        "id": "7Kqply2z0jFj"
      },
      "source": [
        "**Ques7: Apply Lancaster stemmer technique to processed data and store stemmer (lancaster) data as a seperate column to the DataFrame**"
      ]
    },
    {
      "cell_type": "markdown",
      "metadata": {
        "id": "gzlwVsBG0-fo"
      },
      "source": [
        "Lancaster stemmer is used to check frequency of word"
      ]
    },
    {
      "cell_type": "code",
      "metadata": {
        "id": "1gK7NiYu0TgO"
      },
      "source": [
        "from nltk.stem import LancasterStemmer\n",
        "\n",
        "def get_stemmed_text(corpus):\n",
        "  stemmer = LancasterStemmer()\n",
        "  return[' '.join([stemmer.stem(word) for word in review.split()]) for review in corpus]\n",
        "\n",
        "tweet['stemmedtext(lancester)'] = get_stemmed_text(tweet['processed_text'])"
      ],
      "execution_count": 24,
      "outputs": []
    },
    {
      "cell_type": "code",
      "metadata": {
        "colab": {
          "base_uri": "https://localhost:8080/",
          "height": 571
        },
        "id": "-Su0BqMo2BTN",
        "outputId": "d2e8d569-7f83-4ef7-c0e1-cc803dce89dd"
      },
      "source": [
        "tweet.head()"
      ],
      "execution_count": 25,
      "outputs": [
        {
          "output_type": "execute_result",
          "data": {
            "text/html": [
              "<div>\n",
              "<style scoped>\n",
              "    .dataframe tbody tr th:only-of-type {\n",
              "        vertical-align: middle;\n",
              "    }\n",
              "\n",
              "    .dataframe tbody tr th {\n",
              "        vertical-align: top;\n",
              "    }\n",
              "\n",
              "    .dataframe thead th {\n",
              "        text-align: right;\n",
              "    }\n",
              "</style>\n",
              "<table border=\"1\" class=\"dataframe\">\n",
              "  <thead>\n",
              "    <tr style=\"text-align: right;\">\n",
              "      <th></th>\n",
              "      <th>Date</th>\n",
              "      <th>Time</th>\n",
              "      <th>Tweet_Text</th>\n",
              "      <th>Type</th>\n",
              "      <th>Media_Type</th>\n",
              "      <th>Hashtags</th>\n",
              "      <th>Tweet_Id</th>\n",
              "      <th>Tweet_Url</th>\n",
              "      <th>twt_favourites_IS_THIS_LIKE_QUESTION_MARK</th>\n",
              "      <th>Retweets</th>\n",
              "      <th>cleaned_text</th>\n",
              "      <th>processed_text</th>\n",
              "      <th>stemmedtext(porter)</th>\n",
              "      <th>stemmedtext(lancester)</th>\n",
              "    </tr>\n",
              "  </thead>\n",
              "  <tbody>\n",
              "    <tr>\n",
              "      <th>0</th>\n",
              "      <td>16-11-11</td>\n",
              "      <td>15:26:37</td>\n",
              "      <td>Today we express our deepest gratitude to all ...</td>\n",
              "      <td>text</td>\n",
              "      <td>photo</td>\n",
              "      <td>ThankAVet</td>\n",
              "      <td>7.970000e+17</td>\n",
              "      <td>https://twitter.com/realDonaldTrump/status/797...</td>\n",
              "      <td>127213</td>\n",
              "      <td>41112</td>\n",
              "      <td>deepest gratitude served armed forces ThankAVe...</td>\n",
              "      <td>deepest gratitude served armed forces thankave...</td>\n",
              "      <td>deepest gratitud serv arm forc thankavet tcowp...</td>\n",
              "      <td>deepest gratitud serv arm forc thankavet tcowp...</td>\n",
              "    </tr>\n",
              "    <tr>\n",
              "      <th>1</th>\n",
              "      <td>16-11-11</td>\n",
              "      <td>13:33:35</td>\n",
              "      <td>Busy day planned in New York. Will soon be mak...</td>\n",
              "      <td>text</td>\n",
              "      <td>NaN</td>\n",
              "      <td>NaN</td>\n",
              "      <td>7.970000e+17</td>\n",
              "      <td>https://twitter.com/realDonaldTrump/status/797...</td>\n",
              "      <td>141527</td>\n",
              "      <td>28654</td>\n",
              "      <td>New York soon making important decisions peopl...</td>\n",
              "      <td>new york soon making important decisions peopl...</td>\n",
              "      <td>new york soon make import decis peopl run govern</td>\n",
              "      <td>new york soon mak import decid peopl run govern</td>\n",
              "    </tr>\n",
              "    <tr>\n",
              "      <th>2</th>\n",
              "      <td>16-11-11</td>\n",
              "      <td>11:14:20</td>\n",
              "      <td>Love the fact that the small groups of protest...</td>\n",
              "      <td>text</td>\n",
              "      <td>NaN</td>\n",
              "      <td>NaN</td>\n",
              "      <td>7.970000e+17</td>\n",
              "      <td>https://twitter.com/realDonaldTrump/status/797...</td>\n",
              "      <td>183729</td>\n",
              "      <td>50039</td>\n",
              "      <td>small groups protesters last night passion gre...</td>\n",
              "      <td>small groups protesters last night passion gre...</td>\n",
              "      <td>small group protest last night passion great c...</td>\n",
              "      <td>smal group protest last night pass gre country...</td>\n",
              "    </tr>\n",
              "    <tr>\n",
              "      <th>3</th>\n",
              "      <td>16-11-11</td>\n",
              "      <td>2:19:44</td>\n",
              "      <td>Just had a very open and successful presidenti...</td>\n",
              "      <td>text</td>\n",
              "      <td>NaN</td>\n",
              "      <td>NaN</td>\n",
              "      <td>7.970000e+17</td>\n",
              "      <td>https://twitter.com/realDonaldTrump/status/796...</td>\n",
              "      <td>214001</td>\n",
              "      <td>67010</td>\n",
              "      <td>open successful presidential election professi...</td>\n",
              "      <td>open successful presidential election professi...</td>\n",
              "      <td>open success presidenti elect profession prote...</td>\n",
              "      <td>op success presid elect profess protest incit ...</td>\n",
              "    </tr>\n",
              "    <tr>\n",
              "      <th>4</th>\n",
              "      <td>16-11-11</td>\n",
              "      <td>2:10:46</td>\n",
              "      <td>A fantastic day in D.C. Met with President Oba...</td>\n",
              "      <td>text</td>\n",
              "      <td>NaN</td>\n",
              "      <td>NaN</td>\n",
              "      <td>7.970000e+17</td>\n",
              "      <td>https://twitter.com/realDonaldTrump/status/796...</td>\n",
              "      <td>178499</td>\n",
              "      <td>36688</td>\n",
              "      <td>DC Met President Obama first time Really good ...</td>\n",
              "      <td>dc met president obama first time really good ...</td>\n",
              "      <td>dc met presid obama first time realli good mee...</td>\n",
              "      <td>dc met presid obam first tim real good meet gr...</td>\n",
              "    </tr>\n",
              "  </tbody>\n",
              "</table>\n",
              "</div>"
            ],
            "text/plain": [
              "       Date  ...                             stemmedtext(lancester)\n",
              "0  16-11-11  ...  deepest gratitud serv arm forc thankavet tcowp...\n",
              "1  16-11-11  ...    new york soon mak import decid peopl run govern\n",
              "2  16-11-11  ...  smal group protest last night pass gre country...\n",
              "3  16-11-11  ...  op success presid elect profess protest incit ...\n",
              "4  16-11-11  ...  dc met presid obam first tim real good meet gr...\n",
              "\n",
              "[5 rows x 14 columns]"
            ]
          },
          "metadata": {},
          "execution_count": 25
        }
      ]
    },
    {
      "cell_type": "markdown",
      "metadata": {
        "id": "EVS0rlTZ2cVr"
      },
      "source": [
        "**Ques8: Apply Snowball stemmer technique to processed data**"
      ]
    },
    {
      "cell_type": "markdown",
      "metadata": {
        "id": "9koXO2KK2tqz"
      },
      "source": [
        "snowball stemmer is similar to the porter stemmer but here we have specify the english"
      ]
    },
    {
      "cell_type": "code",
      "metadata": {
        "id": "w7DcLoFR2ETn"
      },
      "source": [
        "from nltk.stem import SnowballStemmer\n",
        "\n",
        "def get_stemmed_text(corpus):\n",
        "  stemmer = SnowballStemmer('english')\n",
        "  return [' '.join([stemmer.stem(word) for word in review.split()]) for review in corpus]\n",
        "\n",
        "tweet['stemmedtext(snowball)'] = get_stemmed_text(tweet['processed_text'])"
      ],
      "execution_count": 26,
      "outputs": []
    },
    {
      "cell_type": "code",
      "metadata": {
        "colab": {
          "base_uri": "https://localhost:8080/",
          "height": 571
        },
        "id": "vCA1S9rw3nnI",
        "outputId": "8ff064c1-2e92-4ca8-b256-1eea591bbfe8"
      },
      "source": [
        "tweet.head()"
      ],
      "execution_count": 27,
      "outputs": [
        {
          "output_type": "execute_result",
          "data": {
            "text/html": [
              "<div>\n",
              "<style scoped>\n",
              "    .dataframe tbody tr th:only-of-type {\n",
              "        vertical-align: middle;\n",
              "    }\n",
              "\n",
              "    .dataframe tbody tr th {\n",
              "        vertical-align: top;\n",
              "    }\n",
              "\n",
              "    .dataframe thead th {\n",
              "        text-align: right;\n",
              "    }\n",
              "</style>\n",
              "<table border=\"1\" class=\"dataframe\">\n",
              "  <thead>\n",
              "    <tr style=\"text-align: right;\">\n",
              "      <th></th>\n",
              "      <th>Date</th>\n",
              "      <th>Time</th>\n",
              "      <th>Tweet_Text</th>\n",
              "      <th>Type</th>\n",
              "      <th>Media_Type</th>\n",
              "      <th>Hashtags</th>\n",
              "      <th>Tweet_Id</th>\n",
              "      <th>Tweet_Url</th>\n",
              "      <th>twt_favourites_IS_THIS_LIKE_QUESTION_MARK</th>\n",
              "      <th>Retweets</th>\n",
              "      <th>cleaned_text</th>\n",
              "      <th>processed_text</th>\n",
              "      <th>stemmedtext(porter)</th>\n",
              "      <th>stemmedtext(lancester)</th>\n",
              "      <th>stemmedtext(snowball)</th>\n",
              "    </tr>\n",
              "  </thead>\n",
              "  <tbody>\n",
              "    <tr>\n",
              "      <th>0</th>\n",
              "      <td>16-11-11</td>\n",
              "      <td>15:26:37</td>\n",
              "      <td>Today we express our deepest gratitude to all ...</td>\n",
              "      <td>text</td>\n",
              "      <td>photo</td>\n",
              "      <td>ThankAVet</td>\n",
              "      <td>7.970000e+17</td>\n",
              "      <td>https://twitter.com/realDonaldTrump/status/797...</td>\n",
              "      <td>127213</td>\n",
              "      <td>41112</td>\n",
              "      <td>deepest gratitude served armed forces ThankAVe...</td>\n",
              "      <td>deepest gratitude served armed forces thankave...</td>\n",
              "      <td>deepest gratitud serv arm forc thankavet tcowp...</td>\n",
              "      <td>deepest gratitud serv arm forc thankavet tcowp...</td>\n",
              "      <td>deepest gratitud serv arm forc thankavet tcowp...</td>\n",
              "    </tr>\n",
              "    <tr>\n",
              "      <th>1</th>\n",
              "      <td>16-11-11</td>\n",
              "      <td>13:33:35</td>\n",
              "      <td>Busy day planned in New York. Will soon be mak...</td>\n",
              "      <td>text</td>\n",
              "      <td>NaN</td>\n",
              "      <td>NaN</td>\n",
              "      <td>7.970000e+17</td>\n",
              "      <td>https://twitter.com/realDonaldTrump/status/797...</td>\n",
              "      <td>141527</td>\n",
              "      <td>28654</td>\n",
              "      <td>New York soon making important decisions peopl...</td>\n",
              "      <td>new york soon making important decisions peopl...</td>\n",
              "      <td>new york soon make import decis peopl run govern</td>\n",
              "      <td>new york soon mak import decid peopl run govern</td>\n",
              "      <td>new york soon make import decis peopl run govern</td>\n",
              "    </tr>\n",
              "    <tr>\n",
              "      <th>2</th>\n",
              "      <td>16-11-11</td>\n",
              "      <td>11:14:20</td>\n",
              "      <td>Love the fact that the small groups of protest...</td>\n",
              "      <td>text</td>\n",
              "      <td>NaN</td>\n",
              "      <td>NaN</td>\n",
              "      <td>7.970000e+17</td>\n",
              "      <td>https://twitter.com/realDonaldTrump/status/797...</td>\n",
              "      <td>183729</td>\n",
              "      <td>50039</td>\n",
              "      <td>small groups protesters last night passion gre...</td>\n",
              "      <td>small groups protesters last night passion gre...</td>\n",
              "      <td>small group protest last night passion great c...</td>\n",
              "      <td>smal group protest last night pass gre country...</td>\n",
              "      <td>small group protest last night passion great c...</td>\n",
              "    </tr>\n",
              "    <tr>\n",
              "      <th>3</th>\n",
              "      <td>16-11-11</td>\n",
              "      <td>2:19:44</td>\n",
              "      <td>Just had a very open and successful presidenti...</td>\n",
              "      <td>text</td>\n",
              "      <td>NaN</td>\n",
              "      <td>NaN</td>\n",
              "      <td>7.970000e+17</td>\n",
              "      <td>https://twitter.com/realDonaldTrump/status/796...</td>\n",
              "      <td>214001</td>\n",
              "      <td>67010</td>\n",
              "      <td>open successful presidential election professi...</td>\n",
              "      <td>open successful presidential election professi...</td>\n",
              "      <td>open success presidenti elect profession prote...</td>\n",
              "      <td>op success presid elect profess protest incit ...</td>\n",
              "      <td>open success presidenti elect profession prote...</td>\n",
              "    </tr>\n",
              "    <tr>\n",
              "      <th>4</th>\n",
              "      <td>16-11-11</td>\n",
              "      <td>2:10:46</td>\n",
              "      <td>A fantastic day in D.C. Met with President Oba...</td>\n",
              "      <td>text</td>\n",
              "      <td>NaN</td>\n",
              "      <td>NaN</td>\n",
              "      <td>7.970000e+17</td>\n",
              "      <td>https://twitter.com/realDonaldTrump/status/796...</td>\n",
              "      <td>178499</td>\n",
              "      <td>36688</td>\n",
              "      <td>DC Met President Obama first time Really good ...</td>\n",
              "      <td>dc met president obama first time really good ...</td>\n",
              "      <td>dc met presid obama first time realli good mee...</td>\n",
              "      <td>dc met presid obam first tim real good meet gr...</td>\n",
              "      <td>dc met presid obama first time realli good mee...</td>\n",
              "    </tr>\n",
              "  </tbody>\n",
              "</table>\n",
              "</div>"
            ],
            "text/plain": [
              "       Date  ...                              stemmedtext(snowball)\n",
              "0  16-11-11  ...  deepest gratitud serv arm forc thankavet tcowp...\n",
              "1  16-11-11  ...   new york soon make import decis peopl run govern\n",
              "2  16-11-11  ...  small group protest last night passion great c...\n",
              "3  16-11-11  ...  open success presidenti elect profession prote...\n",
              "4  16-11-11  ...  dc met presid obama first time realli good mee...\n",
              "\n",
              "[5 rows x 15 columns]"
            ]
          },
          "metadata": {},
          "execution_count": 27
        }
      ]
    },
    {
      "cell_type": "markdown",
      "metadata": {
        "id": "aKeJ2V1J3352"
      },
      "source": [
        "You can see that we have applied all the stemming technique because this is the processing phase it will be helpful to analyze which stemming technique can be used while building the model"
      ]
    },
    {
      "cell_type": "markdown",
      "metadata": {
        "id": "sPd6NUsk4WKR"
      },
      "source": [
        "**Ques9: Apply Lemmatization technique to processed data and store lemmatize data as a separate column to the DataFrame**"
      ]
    },
    {
      "cell_type": "markdown",
      "metadata": {
        "id": "FyForkEe4r-H"
      },
      "source": [
        "Lemmatize maps several words into one common roots"
      ]
    },
    {
      "cell_type": "code",
      "metadata": {
        "id": "-HHRk07L3qBh"
      },
      "source": [
        "# Lemmatization\n",
        "from nltk.stem import WordNetLemmatizer\n",
        "def get_lemmatized_text(corpus):\n",
        "  lemmatizer = WordNetLemmatizer()\n",
        "  return [' '.join([lemmatizer.lemmatize(word) for word in review.split()]) for review in corpus]\n",
        "\n",
        "tweet['lemmatext'] = get_lemmatized_text(tweet['processed_text'])"
      ],
      "execution_count": 28,
      "outputs": []
    },
    {
      "cell_type": "code",
      "metadata": {
        "colab": {
          "base_uri": "https://localhost:8080/",
          "height": 605
        },
        "id": "sDPyTKRL53JT",
        "outputId": "d3ffb17e-7c4d-4961-e434-57c8b908c92f"
      },
      "source": [
        "tweet.head()"
      ],
      "execution_count": 29,
      "outputs": [
        {
          "output_type": "execute_result",
          "data": {
            "text/html": [
              "<div>\n",
              "<style scoped>\n",
              "    .dataframe tbody tr th:only-of-type {\n",
              "        vertical-align: middle;\n",
              "    }\n",
              "\n",
              "    .dataframe tbody tr th {\n",
              "        vertical-align: top;\n",
              "    }\n",
              "\n",
              "    .dataframe thead th {\n",
              "        text-align: right;\n",
              "    }\n",
              "</style>\n",
              "<table border=\"1\" class=\"dataframe\">\n",
              "  <thead>\n",
              "    <tr style=\"text-align: right;\">\n",
              "      <th></th>\n",
              "      <th>Date</th>\n",
              "      <th>Time</th>\n",
              "      <th>Tweet_Text</th>\n",
              "      <th>Type</th>\n",
              "      <th>Media_Type</th>\n",
              "      <th>Hashtags</th>\n",
              "      <th>Tweet_Id</th>\n",
              "      <th>Tweet_Url</th>\n",
              "      <th>twt_favourites_IS_THIS_LIKE_QUESTION_MARK</th>\n",
              "      <th>Retweets</th>\n",
              "      <th>cleaned_text</th>\n",
              "      <th>processed_text</th>\n",
              "      <th>stemmedtext(porter)</th>\n",
              "      <th>stemmedtext(lancester)</th>\n",
              "      <th>stemmedtext(snowball)</th>\n",
              "      <th>lemmatext</th>\n",
              "    </tr>\n",
              "  </thead>\n",
              "  <tbody>\n",
              "    <tr>\n",
              "      <th>0</th>\n",
              "      <td>16-11-11</td>\n",
              "      <td>15:26:37</td>\n",
              "      <td>Today we express our deepest gratitude to all ...</td>\n",
              "      <td>text</td>\n",
              "      <td>photo</td>\n",
              "      <td>ThankAVet</td>\n",
              "      <td>7.970000e+17</td>\n",
              "      <td>https://twitter.com/realDonaldTrump/status/797...</td>\n",
              "      <td>127213</td>\n",
              "      <td>41112</td>\n",
              "      <td>deepest gratitude served armed forces ThankAVe...</td>\n",
              "      <td>deepest gratitude served armed forces thankave...</td>\n",
              "      <td>deepest gratitud serv arm forc thankavet tcowp...</td>\n",
              "      <td>deepest gratitud serv arm forc thankavet tcowp...</td>\n",
              "      <td>deepest gratitud serv arm forc thankavet tcowp...</td>\n",
              "      <td>deepest gratitude served armed force thankavet...</td>\n",
              "    </tr>\n",
              "    <tr>\n",
              "      <th>1</th>\n",
              "      <td>16-11-11</td>\n",
              "      <td>13:33:35</td>\n",
              "      <td>Busy day planned in New York. Will soon be mak...</td>\n",
              "      <td>text</td>\n",
              "      <td>NaN</td>\n",
              "      <td>NaN</td>\n",
              "      <td>7.970000e+17</td>\n",
              "      <td>https://twitter.com/realDonaldTrump/status/797...</td>\n",
              "      <td>141527</td>\n",
              "      <td>28654</td>\n",
              "      <td>New York soon making important decisions peopl...</td>\n",
              "      <td>new york soon making important decisions peopl...</td>\n",
              "      <td>new york soon make import decis peopl run govern</td>\n",
              "      <td>new york soon mak import decid peopl run govern</td>\n",
              "      <td>new york soon make import decis peopl run govern</td>\n",
              "      <td>new york soon making important decision people...</td>\n",
              "    </tr>\n",
              "    <tr>\n",
              "      <th>2</th>\n",
              "      <td>16-11-11</td>\n",
              "      <td>11:14:20</td>\n",
              "      <td>Love the fact that the small groups of protest...</td>\n",
              "      <td>text</td>\n",
              "      <td>NaN</td>\n",
              "      <td>NaN</td>\n",
              "      <td>7.970000e+17</td>\n",
              "      <td>https://twitter.com/realDonaldTrump/status/797...</td>\n",
              "      <td>183729</td>\n",
              "      <td>50039</td>\n",
              "      <td>small groups protesters last night passion gre...</td>\n",
              "      <td>small groups protesters last night passion gre...</td>\n",
              "      <td>small group protest last night passion great c...</td>\n",
              "      <td>smal group protest last night pass gre country...</td>\n",
              "      <td>small group protest last night passion great c...</td>\n",
              "      <td>small group protester last night passion great...</td>\n",
              "    </tr>\n",
              "    <tr>\n",
              "      <th>3</th>\n",
              "      <td>16-11-11</td>\n",
              "      <td>2:19:44</td>\n",
              "      <td>Just had a very open and successful presidenti...</td>\n",
              "      <td>text</td>\n",
              "      <td>NaN</td>\n",
              "      <td>NaN</td>\n",
              "      <td>7.970000e+17</td>\n",
              "      <td>https://twitter.com/realDonaldTrump/status/796...</td>\n",
              "      <td>214001</td>\n",
              "      <td>67010</td>\n",
              "      <td>open successful presidential election professi...</td>\n",
              "      <td>open successful presidential election professi...</td>\n",
              "      <td>open success presidenti elect profession prote...</td>\n",
              "      <td>op success presid elect profess protest incit ...</td>\n",
              "      <td>open success presidenti elect profession prote...</td>\n",
              "      <td>open successful presidential election professi...</td>\n",
              "    </tr>\n",
              "    <tr>\n",
              "      <th>4</th>\n",
              "      <td>16-11-11</td>\n",
              "      <td>2:10:46</td>\n",
              "      <td>A fantastic day in D.C. Met with President Oba...</td>\n",
              "      <td>text</td>\n",
              "      <td>NaN</td>\n",
              "      <td>NaN</td>\n",
              "      <td>7.970000e+17</td>\n",
              "      <td>https://twitter.com/realDonaldTrump/status/796...</td>\n",
              "      <td>178499</td>\n",
              "      <td>36688</td>\n",
              "      <td>DC Met President Obama first time Really good ...</td>\n",
              "      <td>dc met president obama first time really good ...</td>\n",
              "      <td>dc met presid obama first time realli good mee...</td>\n",
              "      <td>dc met presid obam first tim real good meet gr...</td>\n",
              "      <td>dc met presid obama first time realli good mee...</td>\n",
              "      <td>dc met president obama first time really good ...</td>\n",
              "    </tr>\n",
              "  </tbody>\n",
              "</table>\n",
              "</div>"
            ],
            "text/plain": [
              "       Date  ...                                          lemmatext\n",
              "0  16-11-11  ...  deepest gratitude served armed force thankavet...\n",
              "1  16-11-11  ...  new york soon making important decision people...\n",
              "2  16-11-11  ...  small group protester last night passion great...\n",
              "3  16-11-11  ...  open successful presidential election professi...\n",
              "4  16-11-11  ...  dc met president obama first time really good ...\n",
              "\n",
              "[5 rows x 16 columns]"
            ]
          },
          "metadata": {},
          "execution_count": 29
        }
      ]
    },
    {
      "cell_type": "code",
      "metadata": {
        "colab": {
          "base_uri": "https://localhost:8080/",
          "height": 605
        },
        "id": "B_Kc3bBo5479",
        "outputId": "a1b6ce24-5829-4b13-e03c-b459923698c9"
      },
      "source": [
        "tweet['lemma_str'] = [' '.join(map(str,l)) for l in tweet['lemmatext']]\n",
        "tweet.head()"
      ],
      "execution_count": 30,
      "outputs": [
        {
          "output_type": "execute_result",
          "data": {
            "text/html": [
              "<div>\n",
              "<style scoped>\n",
              "    .dataframe tbody tr th:only-of-type {\n",
              "        vertical-align: middle;\n",
              "    }\n",
              "\n",
              "    .dataframe tbody tr th {\n",
              "        vertical-align: top;\n",
              "    }\n",
              "\n",
              "    .dataframe thead th {\n",
              "        text-align: right;\n",
              "    }\n",
              "</style>\n",
              "<table border=\"1\" class=\"dataframe\">\n",
              "  <thead>\n",
              "    <tr style=\"text-align: right;\">\n",
              "      <th></th>\n",
              "      <th>Date</th>\n",
              "      <th>Time</th>\n",
              "      <th>Tweet_Text</th>\n",
              "      <th>Type</th>\n",
              "      <th>Media_Type</th>\n",
              "      <th>Hashtags</th>\n",
              "      <th>Tweet_Id</th>\n",
              "      <th>Tweet_Url</th>\n",
              "      <th>twt_favourites_IS_THIS_LIKE_QUESTION_MARK</th>\n",
              "      <th>Retweets</th>\n",
              "      <th>cleaned_text</th>\n",
              "      <th>processed_text</th>\n",
              "      <th>stemmedtext(porter)</th>\n",
              "      <th>stemmedtext(lancester)</th>\n",
              "      <th>stemmedtext(snowball)</th>\n",
              "      <th>lemmatext</th>\n",
              "      <th>lemma_str</th>\n",
              "    </tr>\n",
              "  </thead>\n",
              "  <tbody>\n",
              "    <tr>\n",
              "      <th>0</th>\n",
              "      <td>16-11-11</td>\n",
              "      <td>15:26:37</td>\n",
              "      <td>Today we express our deepest gratitude to all ...</td>\n",
              "      <td>text</td>\n",
              "      <td>photo</td>\n",
              "      <td>ThankAVet</td>\n",
              "      <td>7.970000e+17</td>\n",
              "      <td>https://twitter.com/realDonaldTrump/status/797...</td>\n",
              "      <td>127213</td>\n",
              "      <td>41112</td>\n",
              "      <td>deepest gratitude served armed forces ThankAVe...</td>\n",
              "      <td>deepest gratitude served armed forces thankave...</td>\n",
              "      <td>deepest gratitud serv arm forc thankavet tcowp...</td>\n",
              "      <td>deepest gratitud serv arm forc thankavet tcowp...</td>\n",
              "      <td>deepest gratitud serv arm forc thankavet tcowp...</td>\n",
              "      <td>deepest gratitude served armed force thankavet...</td>\n",
              "      <td>d e e p e s t   g r a t i t u d e   s e r v e ...</td>\n",
              "    </tr>\n",
              "    <tr>\n",
              "      <th>1</th>\n",
              "      <td>16-11-11</td>\n",
              "      <td>13:33:35</td>\n",
              "      <td>Busy day planned in New York. Will soon be mak...</td>\n",
              "      <td>text</td>\n",
              "      <td>NaN</td>\n",
              "      <td>NaN</td>\n",
              "      <td>7.970000e+17</td>\n",
              "      <td>https://twitter.com/realDonaldTrump/status/797...</td>\n",
              "      <td>141527</td>\n",
              "      <td>28654</td>\n",
              "      <td>New York soon making important decisions peopl...</td>\n",
              "      <td>new york soon making important decisions peopl...</td>\n",
              "      <td>new york soon make import decis peopl run govern</td>\n",
              "      <td>new york soon mak import decid peopl run govern</td>\n",
              "      <td>new york soon make import decis peopl run govern</td>\n",
              "      <td>new york soon making important decision people...</td>\n",
              "      <td>n e w   y o r k   s o o n   m a k i n g   i m ...</td>\n",
              "    </tr>\n",
              "    <tr>\n",
              "      <th>2</th>\n",
              "      <td>16-11-11</td>\n",
              "      <td>11:14:20</td>\n",
              "      <td>Love the fact that the small groups of protest...</td>\n",
              "      <td>text</td>\n",
              "      <td>NaN</td>\n",
              "      <td>NaN</td>\n",
              "      <td>7.970000e+17</td>\n",
              "      <td>https://twitter.com/realDonaldTrump/status/797...</td>\n",
              "      <td>183729</td>\n",
              "      <td>50039</td>\n",
              "      <td>small groups protesters last night passion gre...</td>\n",
              "      <td>small groups protesters last night passion gre...</td>\n",
              "      <td>small group protest last night passion great c...</td>\n",
              "      <td>smal group protest last night pass gre country...</td>\n",
              "      <td>small group protest last night passion great c...</td>\n",
              "      <td>small group protester last night passion great...</td>\n",
              "      <td>s m a l l   g r o u p   p r o t e s t e r   l ...</td>\n",
              "    </tr>\n",
              "    <tr>\n",
              "      <th>3</th>\n",
              "      <td>16-11-11</td>\n",
              "      <td>2:19:44</td>\n",
              "      <td>Just had a very open and successful presidenti...</td>\n",
              "      <td>text</td>\n",
              "      <td>NaN</td>\n",
              "      <td>NaN</td>\n",
              "      <td>7.970000e+17</td>\n",
              "      <td>https://twitter.com/realDonaldTrump/status/796...</td>\n",
              "      <td>214001</td>\n",
              "      <td>67010</td>\n",
              "      <td>open successful presidential election professi...</td>\n",
              "      <td>open successful presidential election professi...</td>\n",
              "      <td>open success presidenti elect profession prote...</td>\n",
              "      <td>op success presid elect profess protest incit ...</td>\n",
              "      <td>open success presidenti elect profession prote...</td>\n",
              "      <td>open successful presidential election professi...</td>\n",
              "      <td>o p e n   s u c c e s s f u l   p r e s i d e ...</td>\n",
              "    </tr>\n",
              "    <tr>\n",
              "      <th>4</th>\n",
              "      <td>16-11-11</td>\n",
              "      <td>2:10:46</td>\n",
              "      <td>A fantastic day in D.C. Met with President Oba...</td>\n",
              "      <td>text</td>\n",
              "      <td>NaN</td>\n",
              "      <td>NaN</td>\n",
              "      <td>7.970000e+17</td>\n",
              "      <td>https://twitter.com/realDonaldTrump/status/796...</td>\n",
              "      <td>178499</td>\n",
              "      <td>36688</td>\n",
              "      <td>DC Met President Obama first time Really good ...</td>\n",
              "      <td>dc met president obama first time really good ...</td>\n",
              "      <td>dc met presid obama first time realli good mee...</td>\n",
              "      <td>dc met presid obam first tim real good meet gr...</td>\n",
              "      <td>dc met presid obama first time realli good mee...</td>\n",
              "      <td>dc met president obama first time really good ...</td>\n",
              "      <td>d c   m e t   p r e s i d e n t   o b a m a   ...</td>\n",
              "    </tr>\n",
              "  </tbody>\n",
              "</table>\n",
              "</div>"
            ],
            "text/plain": [
              "       Date  ...                                          lemma_str\n",
              "0  16-11-11  ...  d e e p e s t   g r a t i t u d e   s e r v e ...\n",
              "1  16-11-11  ...  n e w   y o r k   s o o n   m a k i n g   i m ...\n",
              "2  16-11-11  ...  s m a l l   g r o u p   p r o t e s t e r   l ...\n",
              "3  16-11-11  ...  o p e n   s u c c e s s f u l   p r e s i d e ...\n",
              "4  16-11-11  ...  d c   m e t   p r e s i d e n t   o b a m a   ...\n",
              "\n",
              "[5 rows x 17 columns]"
            ]
          },
          "metadata": {},
          "execution_count": 30
        }
      ]
    },
    {
      "cell_type": "code",
      "metadata": {
        "colab": {
          "base_uri": "https://localhost:8080/",
          "height": 605
        },
        "id": "9g64rwJl6TE1",
        "outputId": "2c96ad97-404d-4fae-df42-759d79a79725"
      },
      "source": [
        "tweet['word_count'] = tweet['lemmatext'].apply(lambda x: len(str(x).split()))\n",
        "tweet['review_len'] = tweet['lemma_str'].astype(str).apply(len)\n",
        "tweet.head()"
      ],
      "execution_count": 31,
      "outputs": [
        {
          "output_type": "execute_result",
          "data": {
            "text/html": [
              "<div>\n",
              "<style scoped>\n",
              "    .dataframe tbody tr th:only-of-type {\n",
              "        vertical-align: middle;\n",
              "    }\n",
              "\n",
              "    .dataframe tbody tr th {\n",
              "        vertical-align: top;\n",
              "    }\n",
              "\n",
              "    .dataframe thead th {\n",
              "        text-align: right;\n",
              "    }\n",
              "</style>\n",
              "<table border=\"1\" class=\"dataframe\">\n",
              "  <thead>\n",
              "    <tr style=\"text-align: right;\">\n",
              "      <th></th>\n",
              "      <th>Date</th>\n",
              "      <th>Time</th>\n",
              "      <th>Tweet_Text</th>\n",
              "      <th>Type</th>\n",
              "      <th>Media_Type</th>\n",
              "      <th>Hashtags</th>\n",
              "      <th>Tweet_Id</th>\n",
              "      <th>Tweet_Url</th>\n",
              "      <th>twt_favourites_IS_THIS_LIKE_QUESTION_MARK</th>\n",
              "      <th>Retweets</th>\n",
              "      <th>cleaned_text</th>\n",
              "      <th>processed_text</th>\n",
              "      <th>stemmedtext(porter)</th>\n",
              "      <th>stemmedtext(lancester)</th>\n",
              "      <th>stemmedtext(snowball)</th>\n",
              "      <th>lemmatext</th>\n",
              "      <th>lemma_str</th>\n",
              "      <th>word_count</th>\n",
              "      <th>review_len</th>\n",
              "    </tr>\n",
              "  </thead>\n",
              "  <tbody>\n",
              "    <tr>\n",
              "      <th>0</th>\n",
              "      <td>16-11-11</td>\n",
              "      <td>15:26:37</td>\n",
              "      <td>Today we express our deepest gratitude to all ...</td>\n",
              "      <td>text</td>\n",
              "      <td>photo</td>\n",
              "      <td>ThankAVet</td>\n",
              "      <td>7.970000e+17</td>\n",
              "      <td>https://twitter.com/realDonaldTrump/status/797...</td>\n",
              "      <td>127213</td>\n",
              "      <td>41112</td>\n",
              "      <td>deepest gratitude served armed forces ThankAVe...</td>\n",
              "      <td>deepest gratitude served armed forces thankave...</td>\n",
              "      <td>deepest gratitud serv arm forc thankavet tcowp...</td>\n",
              "      <td>deepest gratitud serv arm forc thankavet tcowp...</td>\n",
              "      <td>deepest gratitud serv arm forc thankavet tcowp...</td>\n",
              "      <td>deepest gratitude served armed force thankavet...</td>\n",
              "      <td>d e e p e s t   g r a t i t u d e   s e r v e ...</td>\n",
              "      <td>7</td>\n",
              "      <td>119</td>\n",
              "    </tr>\n",
              "    <tr>\n",
              "      <th>1</th>\n",
              "      <td>16-11-11</td>\n",
              "      <td>13:33:35</td>\n",
              "      <td>Busy day planned in New York. Will soon be mak...</td>\n",
              "      <td>text</td>\n",
              "      <td>NaN</td>\n",
              "      <td>NaN</td>\n",
              "      <td>7.970000e+17</td>\n",
              "      <td>https://twitter.com/realDonaldTrump/status/797...</td>\n",
              "      <td>141527</td>\n",
              "      <td>28654</td>\n",
              "      <td>New York soon making important decisions peopl...</td>\n",
              "      <td>new york soon making important decisions peopl...</td>\n",
              "      <td>new york soon make import decis peopl run govern</td>\n",
              "      <td>new york soon mak import decid peopl run govern</td>\n",
              "      <td>new york soon make import decis peopl run govern</td>\n",
              "      <td>new york soon making important decision people...</td>\n",
              "      <td>n e w   y o r k   s o o n   m a k i n g   i m ...</td>\n",
              "      <td>9</td>\n",
              "      <td>129</td>\n",
              "    </tr>\n",
              "    <tr>\n",
              "      <th>2</th>\n",
              "      <td>16-11-11</td>\n",
              "      <td>11:14:20</td>\n",
              "      <td>Love the fact that the small groups of protest...</td>\n",
              "      <td>text</td>\n",
              "      <td>NaN</td>\n",
              "      <td>NaN</td>\n",
              "      <td>7.970000e+17</td>\n",
              "      <td>https://twitter.com/realDonaldTrump/status/797...</td>\n",
              "      <td>183729</td>\n",
              "      <td>50039</td>\n",
              "      <td>small groups protesters last night passion gre...</td>\n",
              "      <td>small groups protesters last night passion gre...</td>\n",
              "      <td>small group protest last night passion great c...</td>\n",
              "      <td>smal group protest last night pass gre country...</td>\n",
              "      <td>small group protest last night passion great c...</td>\n",
              "      <td>small group protester last night passion great...</td>\n",
              "      <td>s m a l l   g r o u p   p r o t e s t e r   l ...</td>\n",
              "      <td>11</td>\n",
              "      <td>147</td>\n",
              "    </tr>\n",
              "    <tr>\n",
              "      <th>3</th>\n",
              "      <td>16-11-11</td>\n",
              "      <td>2:19:44</td>\n",
              "      <td>Just had a very open and successful presidenti...</td>\n",
              "      <td>text</td>\n",
              "      <td>NaN</td>\n",
              "      <td>NaN</td>\n",
              "      <td>7.970000e+17</td>\n",
              "      <td>https://twitter.com/realDonaldTrump/status/796...</td>\n",
              "      <td>214001</td>\n",
              "      <td>67010</td>\n",
              "      <td>open successful presidential election professi...</td>\n",
              "      <td>open successful presidential election professi...</td>\n",
              "      <td>open success presidenti elect profession prote...</td>\n",
              "      <td>op success presid elect profess protest incit ...</td>\n",
              "      <td>open success presidenti elect profession prote...</td>\n",
              "      <td>open successful presidential election professi...</td>\n",
              "      <td>o p e n   s u c c e s s f u l   p r e s i d e ...</td>\n",
              "      <td>10</td>\n",
              "      <td>185</td>\n",
              "    </tr>\n",
              "    <tr>\n",
              "      <th>4</th>\n",
              "      <td>16-11-11</td>\n",
              "      <td>2:10:46</td>\n",
              "      <td>A fantastic day in D.C. Met with President Oba...</td>\n",
              "      <td>text</td>\n",
              "      <td>NaN</td>\n",
              "      <td>NaN</td>\n",
              "      <td>7.970000e+17</td>\n",
              "      <td>https://twitter.com/realDonaldTrump/status/796...</td>\n",
              "      <td>178499</td>\n",
              "      <td>36688</td>\n",
              "      <td>DC Met President Obama first time Really good ...</td>\n",
              "      <td>dc met president obama first time really good ...</td>\n",
              "      <td>dc met presid obama first time realli good mee...</td>\n",
              "      <td>dc met presid obam first tim real good meet gr...</td>\n",
              "      <td>dc met presid obama first time realli good mee...</td>\n",
              "      <td>dc met president obama first time really good ...</td>\n",
              "      <td>d c   m e t   p r e s i d e n t   o b a m a   ...</td>\n",
              "      <td>15</td>\n",
              "      <td>179</td>\n",
              "    </tr>\n",
              "  </tbody>\n",
              "</table>\n",
              "</div>"
            ],
            "text/plain": [
              "       Date      Time  ... word_count review_len\n",
              "0  16-11-11  15:26:37  ...          7        119\n",
              "1  16-11-11  13:33:35  ...          9        129\n",
              "2  16-11-11  11:14:20  ...         11        147\n",
              "3  16-11-11   2:19:44  ...         10        185\n",
              "4  16-11-11   2:10:46  ...         15        179\n",
              "\n",
              "[5 rows x 19 columns]"
            ]
          },
          "metadata": {},
          "execution_count": 31
        }
      ]
    },
    {
      "cell_type": "markdown",
      "metadata": {
        "id": "50OrwOwz7ODk"
      },
      "source": [
        "**Ques10: Calculate Sentiment scores for each text**"
      ]
    },
    {
      "cell_type": "markdown",
      "metadata": {
        "id": "wtcFvbPL7YaC"
      },
      "source": [
        "Polarity is a measure which ranges from [-1,1]. where 1 means positive statement and -1 means negative statement. 0 is neutral"
      ]
    },
    {
      "cell_type": "code",
      "metadata": {
        "id": "8m3srRzS7Dho"
      },
      "source": [
        "from textblob import TextBlob"
      ],
      "execution_count": 32,
      "outputs": []
    },
    {
      "cell_type": "code",
      "metadata": {
        "id": "wT3Q2slW75j0"
      },
      "source": [
        "# Create a function to calculate  Sentiment score for each text\n",
        "def generate_polarity(text):\n",
        "  sentiment = TextBlob(text).sentiment\n",
        "  return sentiment"
      ],
      "execution_count": 33,
      "outputs": []
    },
    {
      "cell_type": "code",
      "metadata": {
        "colab": {
          "base_uri": "https://localhost:8080/",
          "height": 205
        },
        "id": "70m9TT198VAT",
        "outputId": "76168315-5985-48c2-fab1-11463663ca06"
      },
      "source": [
        "# Apply the function to processed data\n",
        "sentiment = tweet['lemmatext'].apply(generate_polarity)\n",
        "sentiment = sentiment.to_frame()\n",
        "sentiment.head()"
      ],
      "execution_count": 34,
      "outputs": [
        {
          "output_type": "execute_result",
          "data": {
            "text/html": [
              "<div>\n",
              "<style scoped>\n",
              "    .dataframe tbody tr th:only-of-type {\n",
              "        vertical-align: middle;\n",
              "    }\n",
              "\n",
              "    .dataframe tbody tr th {\n",
              "        vertical-align: top;\n",
              "    }\n",
              "\n",
              "    .dataframe thead th {\n",
              "        text-align: right;\n",
              "    }\n",
              "</style>\n",
              "<table border=\"1\" class=\"dataframe\">\n",
              "  <thead>\n",
              "    <tr style=\"text-align: right;\">\n",
              "      <th></th>\n",
              "      <th>lemmatext</th>\n",
              "    </tr>\n",
              "  </thead>\n",
              "  <tbody>\n",
              "    <tr>\n",
              "      <th>0</th>\n",
              "      <td>(0.0, 0.0)</td>\n",
              "    </tr>\n",
              "    <tr>\n",
              "      <th>1</th>\n",
              "      <td>(0.2681818181818182, 0.7272727272727273)</td>\n",
              "    </tr>\n",
              "    <tr>\n",
              "      <th>2</th>\n",
              "      <td>(0.3375, 0.5541666666666667)</td>\n",
              "    </tr>\n",
              "    <tr>\n",
              "      <th>3</th>\n",
              "      <td>(0.0875, 0.6375)</td>\n",
              "    </tr>\n",
              "    <tr>\n",
              "      <th>4</th>\n",
              "      <td>(0.5875, 0.6208333333333333)</td>\n",
              "    </tr>\n",
              "  </tbody>\n",
              "</table>\n",
              "</div>"
            ],
            "text/plain": [
              "                                  lemmatext\n",
              "0                                (0.0, 0.0)\n",
              "1  (0.2681818181818182, 0.7272727272727273)\n",
              "2              (0.3375, 0.5541666666666667)\n",
              "3                          (0.0875, 0.6375)\n",
              "4              (0.5875, 0.6208333333333333)"
            ]
          },
          "metadata": {},
          "execution_count": 34
        }
      ]
    },
    {
      "cell_type": "code",
      "metadata": {
        "colab": {
          "base_uri": "https://localhost:8080/",
          "height": 605
        },
        "id": "QCTXoFk18wXD",
        "outputId": "e485e882-73c9-40d8-a5dc-d7d8432aa603"
      },
      "source": [
        "tweet['sentiment_score'] = sentiment\n",
        "tweet.head()"
      ],
      "execution_count": 35,
      "outputs": [
        {
          "output_type": "execute_result",
          "data": {
            "text/html": [
              "<div>\n",
              "<style scoped>\n",
              "    .dataframe tbody tr th:only-of-type {\n",
              "        vertical-align: middle;\n",
              "    }\n",
              "\n",
              "    .dataframe tbody tr th {\n",
              "        vertical-align: top;\n",
              "    }\n",
              "\n",
              "    .dataframe thead th {\n",
              "        text-align: right;\n",
              "    }\n",
              "</style>\n",
              "<table border=\"1\" class=\"dataframe\">\n",
              "  <thead>\n",
              "    <tr style=\"text-align: right;\">\n",
              "      <th></th>\n",
              "      <th>Date</th>\n",
              "      <th>Time</th>\n",
              "      <th>Tweet_Text</th>\n",
              "      <th>Type</th>\n",
              "      <th>Media_Type</th>\n",
              "      <th>Hashtags</th>\n",
              "      <th>Tweet_Id</th>\n",
              "      <th>Tweet_Url</th>\n",
              "      <th>twt_favourites_IS_THIS_LIKE_QUESTION_MARK</th>\n",
              "      <th>Retweets</th>\n",
              "      <th>cleaned_text</th>\n",
              "      <th>processed_text</th>\n",
              "      <th>stemmedtext(porter)</th>\n",
              "      <th>stemmedtext(lancester)</th>\n",
              "      <th>stemmedtext(snowball)</th>\n",
              "      <th>lemmatext</th>\n",
              "      <th>lemma_str</th>\n",
              "      <th>word_count</th>\n",
              "      <th>review_len</th>\n",
              "      <th>sentiment_score</th>\n",
              "    </tr>\n",
              "  </thead>\n",
              "  <tbody>\n",
              "    <tr>\n",
              "      <th>0</th>\n",
              "      <td>16-11-11</td>\n",
              "      <td>15:26:37</td>\n",
              "      <td>Today we express our deepest gratitude to all ...</td>\n",
              "      <td>text</td>\n",
              "      <td>photo</td>\n",
              "      <td>ThankAVet</td>\n",
              "      <td>7.970000e+17</td>\n",
              "      <td>https://twitter.com/realDonaldTrump/status/797...</td>\n",
              "      <td>127213</td>\n",
              "      <td>41112</td>\n",
              "      <td>deepest gratitude served armed forces ThankAVe...</td>\n",
              "      <td>deepest gratitude served armed forces thankave...</td>\n",
              "      <td>deepest gratitud serv arm forc thankavet tcowp...</td>\n",
              "      <td>deepest gratitud serv arm forc thankavet tcowp...</td>\n",
              "      <td>deepest gratitud serv arm forc thankavet tcowp...</td>\n",
              "      <td>deepest gratitude served armed force thankavet...</td>\n",
              "      <td>d e e p e s t   g r a t i t u d e   s e r v e ...</td>\n",
              "      <td>7</td>\n",
              "      <td>119</td>\n",
              "      <td>(0.0, 0.0)</td>\n",
              "    </tr>\n",
              "    <tr>\n",
              "      <th>1</th>\n",
              "      <td>16-11-11</td>\n",
              "      <td>13:33:35</td>\n",
              "      <td>Busy day planned in New York. Will soon be mak...</td>\n",
              "      <td>text</td>\n",
              "      <td>NaN</td>\n",
              "      <td>NaN</td>\n",
              "      <td>7.970000e+17</td>\n",
              "      <td>https://twitter.com/realDonaldTrump/status/797...</td>\n",
              "      <td>141527</td>\n",
              "      <td>28654</td>\n",
              "      <td>New York soon making important decisions peopl...</td>\n",
              "      <td>new york soon making important decisions peopl...</td>\n",
              "      <td>new york soon make import decis peopl run govern</td>\n",
              "      <td>new york soon mak import decid peopl run govern</td>\n",
              "      <td>new york soon make import decis peopl run govern</td>\n",
              "      <td>new york soon making important decision people...</td>\n",
              "      <td>n e w   y o r k   s o o n   m a k i n g   i m ...</td>\n",
              "      <td>9</td>\n",
              "      <td>129</td>\n",
              "      <td>(0.2681818181818182, 0.7272727272727273)</td>\n",
              "    </tr>\n",
              "    <tr>\n",
              "      <th>2</th>\n",
              "      <td>16-11-11</td>\n",
              "      <td>11:14:20</td>\n",
              "      <td>Love the fact that the small groups of protest...</td>\n",
              "      <td>text</td>\n",
              "      <td>NaN</td>\n",
              "      <td>NaN</td>\n",
              "      <td>7.970000e+17</td>\n",
              "      <td>https://twitter.com/realDonaldTrump/status/797...</td>\n",
              "      <td>183729</td>\n",
              "      <td>50039</td>\n",
              "      <td>small groups protesters last night passion gre...</td>\n",
              "      <td>small groups protesters last night passion gre...</td>\n",
              "      <td>small group protest last night passion great c...</td>\n",
              "      <td>smal group protest last night pass gre country...</td>\n",
              "      <td>small group protest last night passion great c...</td>\n",
              "      <td>small group protester last night passion great...</td>\n",
              "      <td>s m a l l   g r o u p   p r o t e s t e r   l ...</td>\n",
              "      <td>11</td>\n",
              "      <td>147</td>\n",
              "      <td>(0.3375, 0.5541666666666667)</td>\n",
              "    </tr>\n",
              "    <tr>\n",
              "      <th>3</th>\n",
              "      <td>16-11-11</td>\n",
              "      <td>2:19:44</td>\n",
              "      <td>Just had a very open and successful presidenti...</td>\n",
              "      <td>text</td>\n",
              "      <td>NaN</td>\n",
              "      <td>NaN</td>\n",
              "      <td>7.970000e+17</td>\n",
              "      <td>https://twitter.com/realDonaldTrump/status/796...</td>\n",
              "      <td>214001</td>\n",
              "      <td>67010</td>\n",
              "      <td>open successful presidential election professi...</td>\n",
              "      <td>open successful presidential election professi...</td>\n",
              "      <td>open success presidenti elect profession prote...</td>\n",
              "      <td>op success presid elect profess protest incit ...</td>\n",
              "      <td>open success presidenti elect profession prote...</td>\n",
              "      <td>open successful presidential election professi...</td>\n",
              "      <td>o p e n   s u c c e s s f u l   p r e s i d e ...</td>\n",
              "      <td>10</td>\n",
              "      <td>185</td>\n",
              "      <td>(0.0875, 0.6375)</td>\n",
              "    </tr>\n",
              "    <tr>\n",
              "      <th>4</th>\n",
              "      <td>16-11-11</td>\n",
              "      <td>2:10:46</td>\n",
              "      <td>A fantastic day in D.C. Met with President Oba...</td>\n",
              "      <td>text</td>\n",
              "      <td>NaN</td>\n",
              "      <td>NaN</td>\n",
              "      <td>7.970000e+17</td>\n",
              "      <td>https://twitter.com/realDonaldTrump/status/796...</td>\n",
              "      <td>178499</td>\n",
              "      <td>36688</td>\n",
              "      <td>DC Met President Obama first time Really good ...</td>\n",
              "      <td>dc met president obama first time really good ...</td>\n",
              "      <td>dc met presid obama first time realli good mee...</td>\n",
              "      <td>dc met presid obam first tim real good meet gr...</td>\n",
              "      <td>dc met presid obama first time realli good mee...</td>\n",
              "      <td>dc met president obama first time really good ...</td>\n",
              "      <td>d c   m e t   p r e s i d e n t   o b a m a   ...</td>\n",
              "      <td>15</td>\n",
              "      <td>179</td>\n",
              "      <td>(0.5875, 0.6208333333333333)</td>\n",
              "    </tr>\n",
              "  </tbody>\n",
              "</table>\n",
              "</div>"
            ],
            "text/plain": [
              "       Date      Time  ... review_len                           sentiment_score\n",
              "0  16-11-11  15:26:37  ...        119                                (0.0, 0.0)\n",
              "1  16-11-11  13:33:35  ...        129  (0.2681818181818182, 0.7272727272727273)\n",
              "2  16-11-11  11:14:20  ...        147              (0.3375, 0.5541666666666667)\n",
              "3  16-11-11   2:19:44  ...        185                          (0.0875, 0.6375)\n",
              "4  16-11-11   2:10:46  ...        179              (0.5875, 0.6208333333333333)\n",
              "\n",
              "[5 rows x 20 columns]"
            ]
          },
          "metadata": {},
          "execution_count": 35
        }
      ]
    },
    {
      "cell_type": "markdown",
      "metadata": {
        "id": "HDAO_MGg8_KC"
      },
      "source": [
        "**Ques11: Calculate Polarity for processed data and store polarity as a separate column to DataFrame**"
      ]
    },
    {
      "cell_type": "code",
      "metadata": {
        "id": "ywMEB6RY871_"
      },
      "source": [
        "# Use first element as polarity\n",
        "sentiment['polarity'] = sentiment['lemmatext'].apply(lambda x:x[0])"
      ],
      "execution_count": 36,
      "outputs": []
    },
    {
      "cell_type": "code",
      "metadata": {
        "colab": {
          "base_uri": "https://localhost:8080/",
          "height": 605
        },
        "id": "0e7rKdRU9e7e",
        "outputId": "70267fd4-bb00-456d-9a94-32fdf2782e54"
      },
      "source": [
        "# add a column to DataFrame for polarity score respectively\n",
        "\n",
        "tweet['polarity'] = sentiment['polarity']\n",
        "tweet.head()"
      ],
      "execution_count": 37,
      "outputs": [
        {
          "output_type": "execute_result",
          "data": {
            "text/html": [
              "<div>\n",
              "<style scoped>\n",
              "    .dataframe tbody tr th:only-of-type {\n",
              "        vertical-align: middle;\n",
              "    }\n",
              "\n",
              "    .dataframe tbody tr th {\n",
              "        vertical-align: top;\n",
              "    }\n",
              "\n",
              "    .dataframe thead th {\n",
              "        text-align: right;\n",
              "    }\n",
              "</style>\n",
              "<table border=\"1\" class=\"dataframe\">\n",
              "  <thead>\n",
              "    <tr style=\"text-align: right;\">\n",
              "      <th></th>\n",
              "      <th>Date</th>\n",
              "      <th>Time</th>\n",
              "      <th>Tweet_Text</th>\n",
              "      <th>Type</th>\n",
              "      <th>Media_Type</th>\n",
              "      <th>Hashtags</th>\n",
              "      <th>Tweet_Id</th>\n",
              "      <th>Tweet_Url</th>\n",
              "      <th>twt_favourites_IS_THIS_LIKE_QUESTION_MARK</th>\n",
              "      <th>Retweets</th>\n",
              "      <th>cleaned_text</th>\n",
              "      <th>processed_text</th>\n",
              "      <th>stemmedtext(porter)</th>\n",
              "      <th>stemmedtext(lancester)</th>\n",
              "      <th>stemmedtext(snowball)</th>\n",
              "      <th>lemmatext</th>\n",
              "      <th>lemma_str</th>\n",
              "      <th>word_count</th>\n",
              "      <th>review_len</th>\n",
              "      <th>sentiment_score</th>\n",
              "      <th>polarity</th>\n",
              "    </tr>\n",
              "  </thead>\n",
              "  <tbody>\n",
              "    <tr>\n",
              "      <th>0</th>\n",
              "      <td>16-11-11</td>\n",
              "      <td>15:26:37</td>\n",
              "      <td>Today we express our deepest gratitude to all ...</td>\n",
              "      <td>text</td>\n",
              "      <td>photo</td>\n",
              "      <td>ThankAVet</td>\n",
              "      <td>7.970000e+17</td>\n",
              "      <td>https://twitter.com/realDonaldTrump/status/797...</td>\n",
              "      <td>127213</td>\n",
              "      <td>41112</td>\n",
              "      <td>deepest gratitude served armed forces ThankAVe...</td>\n",
              "      <td>deepest gratitude served armed forces thankave...</td>\n",
              "      <td>deepest gratitud serv arm forc thankavet tcowp...</td>\n",
              "      <td>deepest gratitud serv arm forc thankavet tcowp...</td>\n",
              "      <td>deepest gratitud serv arm forc thankavet tcowp...</td>\n",
              "      <td>deepest gratitude served armed force thankavet...</td>\n",
              "      <td>d e e p e s t   g r a t i t u d e   s e r v e ...</td>\n",
              "      <td>7</td>\n",
              "      <td>119</td>\n",
              "      <td>(0.0, 0.0)</td>\n",
              "      <td>0.000000</td>\n",
              "    </tr>\n",
              "    <tr>\n",
              "      <th>1</th>\n",
              "      <td>16-11-11</td>\n",
              "      <td>13:33:35</td>\n",
              "      <td>Busy day planned in New York. Will soon be mak...</td>\n",
              "      <td>text</td>\n",
              "      <td>NaN</td>\n",
              "      <td>NaN</td>\n",
              "      <td>7.970000e+17</td>\n",
              "      <td>https://twitter.com/realDonaldTrump/status/797...</td>\n",
              "      <td>141527</td>\n",
              "      <td>28654</td>\n",
              "      <td>New York soon making important decisions peopl...</td>\n",
              "      <td>new york soon making important decisions peopl...</td>\n",
              "      <td>new york soon make import decis peopl run govern</td>\n",
              "      <td>new york soon mak import decid peopl run govern</td>\n",
              "      <td>new york soon make import decis peopl run govern</td>\n",
              "      <td>new york soon making important decision people...</td>\n",
              "      <td>n e w   y o r k   s o o n   m a k i n g   i m ...</td>\n",
              "      <td>9</td>\n",
              "      <td>129</td>\n",
              "      <td>(0.2681818181818182, 0.7272727272727273)</td>\n",
              "      <td>0.268182</td>\n",
              "    </tr>\n",
              "    <tr>\n",
              "      <th>2</th>\n",
              "      <td>16-11-11</td>\n",
              "      <td>11:14:20</td>\n",
              "      <td>Love the fact that the small groups of protest...</td>\n",
              "      <td>text</td>\n",
              "      <td>NaN</td>\n",
              "      <td>NaN</td>\n",
              "      <td>7.970000e+17</td>\n",
              "      <td>https://twitter.com/realDonaldTrump/status/797...</td>\n",
              "      <td>183729</td>\n",
              "      <td>50039</td>\n",
              "      <td>small groups protesters last night passion gre...</td>\n",
              "      <td>small groups protesters last night passion gre...</td>\n",
              "      <td>small group protest last night passion great c...</td>\n",
              "      <td>smal group protest last night pass gre country...</td>\n",
              "      <td>small group protest last night passion great c...</td>\n",
              "      <td>small group protester last night passion great...</td>\n",
              "      <td>s m a l l   g r o u p   p r o t e s t e r   l ...</td>\n",
              "      <td>11</td>\n",
              "      <td>147</td>\n",
              "      <td>(0.3375, 0.5541666666666667)</td>\n",
              "      <td>0.337500</td>\n",
              "    </tr>\n",
              "    <tr>\n",
              "      <th>3</th>\n",
              "      <td>16-11-11</td>\n",
              "      <td>2:19:44</td>\n",
              "      <td>Just had a very open and successful presidenti...</td>\n",
              "      <td>text</td>\n",
              "      <td>NaN</td>\n",
              "      <td>NaN</td>\n",
              "      <td>7.970000e+17</td>\n",
              "      <td>https://twitter.com/realDonaldTrump/status/796...</td>\n",
              "      <td>214001</td>\n",
              "      <td>67010</td>\n",
              "      <td>open successful presidential election professi...</td>\n",
              "      <td>open successful presidential election professi...</td>\n",
              "      <td>open success presidenti elect profession prote...</td>\n",
              "      <td>op success presid elect profess protest incit ...</td>\n",
              "      <td>open success presidenti elect profession prote...</td>\n",
              "      <td>open successful presidential election professi...</td>\n",
              "      <td>o p e n   s u c c e s s f u l   p r e s i d e ...</td>\n",
              "      <td>10</td>\n",
              "      <td>185</td>\n",
              "      <td>(0.0875, 0.6375)</td>\n",
              "      <td>0.087500</td>\n",
              "    </tr>\n",
              "    <tr>\n",
              "      <th>4</th>\n",
              "      <td>16-11-11</td>\n",
              "      <td>2:10:46</td>\n",
              "      <td>A fantastic day in D.C. Met with President Oba...</td>\n",
              "      <td>text</td>\n",
              "      <td>NaN</td>\n",
              "      <td>NaN</td>\n",
              "      <td>7.970000e+17</td>\n",
              "      <td>https://twitter.com/realDonaldTrump/status/796...</td>\n",
              "      <td>178499</td>\n",
              "      <td>36688</td>\n",
              "      <td>DC Met President Obama first time Really good ...</td>\n",
              "      <td>dc met president obama first time really good ...</td>\n",
              "      <td>dc met presid obama first time realli good mee...</td>\n",
              "      <td>dc met presid obam first tim real good meet gr...</td>\n",
              "      <td>dc met presid obama first time realli good mee...</td>\n",
              "      <td>dc met president obama first time really good ...</td>\n",
              "      <td>d c   m e t   p r e s i d e n t   o b a m a   ...</td>\n",
              "      <td>15</td>\n",
              "      <td>179</td>\n",
              "      <td>(0.5875, 0.6208333333333333)</td>\n",
              "      <td>0.587500</td>\n",
              "    </tr>\n",
              "  </tbody>\n",
              "</table>\n",
              "</div>"
            ],
            "text/plain": [
              "       Date      Time  ...                           sentiment_score  polarity\n",
              "0  16-11-11  15:26:37  ...                                (0.0, 0.0)  0.000000\n",
              "1  16-11-11  13:33:35  ...  (0.2681818181818182, 0.7272727272727273)  0.268182\n",
              "2  16-11-11  11:14:20  ...              (0.3375, 0.5541666666666667)  0.337500\n",
              "3  16-11-11   2:19:44  ...                          (0.0875, 0.6375)  0.087500\n",
              "4  16-11-11   2:10:46  ...              (0.5875, 0.6208333333333333)  0.587500\n",
              "\n",
              "[5 rows x 21 columns]"
            ]
          },
          "metadata": {},
          "execution_count": 37
        }
      ]
    },
    {
      "cell_type": "markdown",
      "metadata": {
        "id": "Qw_tH0CI-M8g"
      },
      "source": [
        "**Ques12: Visualize the sentiment of the sentences using histogram**"
      ]
    },
    {
      "cell_type": "code",
      "metadata": {
        "colab": {
          "base_uri": "https://localhost:8080/",
          "height": 698
        },
        "id": "ZzdoFCQr9zOc",
        "outputId": "17a1af5e-b4cd-4922-d4a7-783877dd702d"
      },
      "source": [
        "import matplotlib.pyplot as plt\n",
        "plt.figure(figsize=(50,30))\n",
        "plt.margins(0.02)\n",
        "plt.xlabel('Polarity', fontsize=50)\n",
        "plt.xticks(fontsize=40)\n",
        "plt.ylabel('Frequency', fontsize=50)\n",
        "plt.yticks(fontsize=40)\n",
        "plt.hist(tweet['polarity'], bins = 50)\n",
        "plt.title('Polarity Distribution', fontsize=60)\n",
        "plt.show()"
      ],
      "execution_count": 38,
      "outputs": [
        {
          "output_type": "display_data",
          "data": {
            "image/png": "[encoded data removed]",
            "text/plain": [
              "<Figure size 3600x2160 with 1 Axes>"
            ]
          },
          "metadata": {
            "needs_background": "light"
          }
        }
      ]
    },
    {
      "cell_type": "markdown",
      "metadata": {
        "id": "XO6pFhRB_STR"
      },
      "source": [
        "**Ques13: Find the number of tweets of each category of polarity (Positive, Negative and Neutral)**"
      ]
    },
    {
      "cell_type": "code",
      "metadata": {
        "id": "fnuRfFtt_MpY"
      },
      "source": [
        "tweet['polarity_encoded'] = ['positive' if x>0 else 'negative' if x<0 else 'neutral' for x in tweet['polarity']]"
      ],
      "execution_count": 39,
      "outputs": []
    },
    {
      "cell_type": "code",
      "metadata": {
        "colab": {
          "base_uri": "https://localhost:8080/"
        },
        "id": "0z1pNCL___DV",
        "outputId": "6307186a-7d44-462e-9ef4-7aae30e8f075"
      },
      "source": [
        "# Print the number of tweets of each category of polarity\n",
        "tweet['polarity_encoded'].value_counts()"
      ],
      "execution_count": 40,
      "outputs": [
        {
          "output_type": "execute_result",
          "data": {
            "text/plain": [
              "positive    3278\n",
              "neutral     2851\n",
              "negative    1246\n",
              "Name: polarity_encoded, dtype: int64"
            ]
          },
          "metadata": {},
          "execution_count": 40
        }
      ]
    },
    {
      "cell_type": "markdown",
      "metadata": {
        "id": "Icd9W6EiAaD2"
      },
      "source": [
        "We can observed that he received more positive and neutral comments rather than negative commentswhich shows that his actions were appreciated by people of U.S."
      ]
    },
    {
      "cell_type": "markdown",
      "metadata": {
        "id": "kO4ua-pXA-1O"
      },
      "source": [
        "**Ques14: Build ML model and calculate the accuracy**"
      ]
    },
    {
      "cell_type": "code",
      "metadata": {
        "colab": {
          "base_uri": "https://localhost:8080/",
          "height": 605
        },
        "id": "xBoI8Lt0ATUQ",
        "outputId": "bee716d5-7b2b-472c-a658-bb970735b684"
      },
      "source": [
        "tweet.head()"
      ],
      "execution_count": 41,
      "outputs": [
        {
          "output_type": "execute_result",
          "data": {
            "text/html": [
              "<div>\n",
              "<style scoped>\n",
              "    .dataframe tbody tr th:only-of-type {\n",
              "        vertical-align: middle;\n",
              "    }\n",
              "\n",
              "    .dataframe tbody tr th {\n",
              "        vertical-align: top;\n",
              "    }\n",
              "\n",
              "    .dataframe thead th {\n",
              "        text-align: right;\n",
              "    }\n",
              "</style>\n",
              "<table border=\"1\" class=\"dataframe\">\n",
              "  <thead>\n",
              "    <tr style=\"text-align: right;\">\n",
              "      <th></th>\n",
              "      <th>Date</th>\n",
              "      <th>Time</th>\n",
              "      <th>Tweet_Text</th>\n",
              "      <th>Type</th>\n",
              "      <th>Media_Type</th>\n",
              "      <th>Hashtags</th>\n",
              "      <th>Tweet_Id</th>\n",
              "      <th>Tweet_Url</th>\n",
              "      <th>twt_favourites_IS_THIS_LIKE_QUESTION_MARK</th>\n",
              "      <th>Retweets</th>\n",
              "      <th>cleaned_text</th>\n",
              "      <th>processed_text</th>\n",
              "      <th>stemmedtext(porter)</th>\n",
              "      <th>stemmedtext(lancester)</th>\n",
              "      <th>stemmedtext(snowball)</th>\n",
              "      <th>lemmatext</th>\n",
              "      <th>lemma_str</th>\n",
              "      <th>word_count</th>\n",
              "      <th>review_len</th>\n",
              "      <th>sentiment_score</th>\n",
              "      <th>polarity</th>\n",
              "      <th>polarity_encoded</th>\n",
              "    </tr>\n",
              "  </thead>\n",
              "  <tbody>\n",
              "    <tr>\n",
              "      <th>0</th>\n",
              "      <td>16-11-11</td>\n",
              "      <td>15:26:37</td>\n",
              "      <td>Today we express our deepest gratitude to all ...</td>\n",
              "      <td>text</td>\n",
              "      <td>photo</td>\n",
              "      <td>ThankAVet</td>\n",
              "      <td>7.970000e+17</td>\n",
              "      <td>https://twitter.com/realDonaldTrump/status/797...</td>\n",
              "      <td>127213</td>\n",
              "      <td>41112</td>\n",
              "      <td>deepest gratitude served armed forces ThankAVe...</td>\n",
              "      <td>deepest gratitude served armed forces thankave...</td>\n",
              "      <td>deepest gratitud serv arm forc thankavet tcowp...</td>\n",
              "      <td>deepest gratitud serv arm forc thankavet tcowp...</td>\n",
              "      <td>deepest gratitud serv arm forc thankavet tcowp...</td>\n",
              "      <td>deepest gratitude served armed force thankavet...</td>\n",
              "      <td>d e e p e s t   g r a t i t u d e   s e r v e ...</td>\n",
              "      <td>7</td>\n",
              "      <td>119</td>\n",
              "      <td>(0.0, 0.0)</td>\n",
              "      <td>0.000000</td>\n",
              "      <td>neutral</td>\n",
              "    </tr>\n",
              "    <tr>\n",
              "      <th>1</th>\n",
              "      <td>16-11-11</td>\n",
              "      <td>13:33:35</td>\n",
              "      <td>Busy day planned in New York. Will soon be mak...</td>\n",
              "      <td>text</td>\n",
              "      <td>NaN</td>\n",
              "      <td>NaN</td>\n",
              "      <td>7.970000e+17</td>\n",
              "      <td>https://twitter.com/realDonaldTrump/status/797...</td>\n",
              "      <td>141527</td>\n",
              "      <td>28654</td>\n",
              "      <td>New York soon making important decisions peopl...</td>\n",
              "      <td>new york soon making important decisions peopl...</td>\n",
              "      <td>new york soon make import decis peopl run govern</td>\n",
              "      <td>new york soon mak import decid peopl run govern</td>\n",
              "      <td>new york soon make import decis peopl run govern</td>\n",
              "      <td>new york soon making important decision people...</td>\n",
              "      <td>n e w   y o r k   s o o n   m a k i n g   i m ...</td>\n",
              "      <td>9</td>\n",
              "      <td>129</td>\n",
              "      <td>(0.2681818181818182, 0.7272727272727273)</td>\n",
              "      <td>0.268182</td>\n",
              "      <td>positive</td>\n",
              "    </tr>\n",
              "    <tr>\n",
              "      <th>2</th>\n",
              "      <td>16-11-11</td>\n",
              "      <td>11:14:20</td>\n",
              "      <td>Love the fact that the small groups of protest...</td>\n",
              "      <td>text</td>\n",
              "      <td>NaN</td>\n",
              "      <td>NaN</td>\n",
              "      <td>7.970000e+17</td>\n",
              "      <td>https://twitter.com/realDonaldTrump/status/797...</td>\n",
              "      <td>183729</td>\n",
              "      <td>50039</td>\n",
              "      <td>small groups protesters last night passion gre...</td>\n",
              "      <td>small groups protesters last night passion gre...</td>\n",
              "      <td>small group protest last night passion great c...</td>\n",
              "      <td>smal group protest last night pass gre country...</td>\n",
              "      <td>small group protest last night passion great c...</td>\n",
              "      <td>small group protester last night passion great...</td>\n",
              "      <td>s m a l l   g r o u p   p r o t e s t e r   l ...</td>\n",
              "      <td>11</td>\n",
              "      <td>147</td>\n",
              "      <td>(0.3375, 0.5541666666666667)</td>\n",
              "      <td>0.337500</td>\n",
              "      <td>positive</td>\n",
              "    </tr>\n",
              "    <tr>\n",
              "      <th>3</th>\n",
              "      <td>16-11-11</td>\n",
              "      <td>2:19:44</td>\n",
              "      <td>Just had a very open and successful presidenti...</td>\n",
              "      <td>text</td>\n",
              "      <td>NaN</td>\n",
              "      <td>NaN</td>\n",
              "      <td>7.970000e+17</td>\n",
              "      <td>https://twitter.com/realDonaldTrump/status/796...</td>\n",
              "      <td>214001</td>\n",
              "      <td>67010</td>\n",
              "      <td>open successful presidential election professi...</td>\n",
              "      <td>open successful presidential election professi...</td>\n",
              "      <td>open success presidenti elect profession prote...</td>\n",
              "      <td>op success presid elect profess protest incit ...</td>\n",
              "      <td>open success presidenti elect profession prote...</td>\n",
              "      <td>open successful presidential election professi...</td>\n",
              "      <td>o p e n   s u c c e s s f u l   p r e s i d e ...</td>\n",
              "      <td>10</td>\n",
              "      <td>185</td>\n",
              "      <td>(0.0875, 0.6375)</td>\n",
              "      <td>0.087500</td>\n",
              "      <td>positive</td>\n",
              "    </tr>\n",
              "    <tr>\n",
              "      <th>4</th>\n",
              "      <td>16-11-11</td>\n",
              "      <td>2:10:46</td>\n",
              "      <td>A fantastic day in D.C. Met with President Oba...</td>\n",
              "      <td>text</td>\n",
              "      <td>NaN</td>\n",
              "      <td>NaN</td>\n",
              "      <td>7.970000e+17</td>\n",
              "      <td>https://twitter.com/realDonaldTrump/status/796...</td>\n",
              "      <td>178499</td>\n",
              "      <td>36688</td>\n",
              "      <td>DC Met President Obama first time Really good ...</td>\n",
              "      <td>dc met president obama first time really good ...</td>\n",
              "      <td>dc met presid obama first time realli good mee...</td>\n",
              "      <td>dc met presid obam first tim real good meet gr...</td>\n",
              "      <td>dc met presid obama first time realli good mee...</td>\n",
              "      <td>dc met president obama first time really good ...</td>\n",
              "      <td>d c   m e t   p r e s i d e n t   o b a m a   ...</td>\n",
              "      <td>15</td>\n",
              "      <td>179</td>\n",
              "      <td>(0.5875, 0.6208333333333333)</td>\n",
              "      <td>0.587500</td>\n",
              "      <td>positive</td>\n",
              "    </tr>\n",
              "  </tbody>\n",
              "</table>\n",
              "</div>"
            ],
            "text/plain": [
              "       Date      Time  ...  polarity polarity_encoded\n",
              "0  16-11-11  15:26:37  ...  0.000000          neutral\n",
              "1  16-11-11  13:33:35  ...  0.268182         positive\n",
              "2  16-11-11  11:14:20  ...  0.337500         positive\n",
              "3  16-11-11   2:19:44  ...  0.087500         positive\n",
              "4  16-11-11   2:10:46  ...  0.587500         positive\n",
              "\n",
              "[5 rows x 22 columns]"
            ]
          },
          "metadata": {},
          "execution_count": 41
        }
      ]
    },
    {
      "cell_type": "code",
      "metadata": {
        "colab": {
          "base_uri": "https://localhost:8080/",
          "height": 605
        },
        "id": "5FfTlxEJA8-q",
        "outputId": "fac12aac-08ff-4cb3-c433-30a71280810c"
      },
      "source": [
        "new_df = tweet.drop(columns=['sentiment_score','polarity'],axis=1)\n",
        "new_df.head()"
      ],
      "execution_count": 42,
      "outputs": [
        {
          "output_type": "execute_result",
          "data": {
            "text/html": [
              "<div>\n",
              "<style scoped>\n",
              "    .dataframe tbody tr th:only-of-type {\n",
              "        vertical-align: middle;\n",
              "    }\n",
              "\n",
              "    .dataframe tbody tr th {\n",
              "        vertical-align: top;\n",
              "    }\n",
              "\n",
              "    .dataframe thead th {\n",
              "        text-align: right;\n",
              "    }\n",
              "</style>\n",
              "<table border=\"1\" class=\"dataframe\">\n",
              "  <thead>\n",
              "    <tr style=\"text-align: right;\">\n",
              "      <th></th>\n",
              "      <th>Date</th>\n",
              "      <th>Time</th>\n",
              "      <th>Tweet_Text</th>\n",
              "      <th>Type</th>\n",
              "      <th>Media_Type</th>\n",
              "      <th>Hashtags</th>\n",
              "      <th>Tweet_Id</th>\n",
              "      <th>Tweet_Url</th>\n",
              "      <th>twt_favourites_IS_THIS_LIKE_QUESTION_MARK</th>\n",
              "      <th>Retweets</th>\n",
              "      <th>cleaned_text</th>\n",
              "      <th>processed_text</th>\n",
              "      <th>stemmedtext(porter)</th>\n",
              "      <th>stemmedtext(lancester)</th>\n",
              "      <th>stemmedtext(snowball)</th>\n",
              "      <th>lemmatext</th>\n",
              "      <th>lemma_str</th>\n",
              "      <th>word_count</th>\n",
              "      <th>review_len</th>\n",
              "      <th>polarity_encoded</th>\n",
              "    </tr>\n",
              "  </thead>\n",
              "  <tbody>\n",
              "    <tr>\n",
              "      <th>0</th>\n",
              "      <td>16-11-11</td>\n",
              "      <td>15:26:37</td>\n",
              "      <td>Today we express our deepest gratitude to all ...</td>\n",
              "      <td>text</td>\n",
              "      <td>photo</td>\n",
              "      <td>ThankAVet</td>\n",
              "      <td>7.970000e+17</td>\n",
              "      <td>https://twitter.com/realDonaldTrump/status/797...</td>\n",
              "      <td>127213</td>\n",
              "      <td>41112</td>\n",
              "      <td>deepest gratitude served armed forces ThankAVe...</td>\n",
              "      <td>deepest gratitude served armed forces thankave...</td>\n",
              "      <td>deepest gratitud serv arm forc thankavet tcowp...</td>\n",
              "      <td>deepest gratitud serv arm forc thankavet tcowp...</td>\n",
              "      <td>deepest gratitud serv arm forc thankavet tcowp...</td>\n",
              "      <td>deepest gratitude served armed force thankavet...</td>\n",
              "      <td>d e e p e s t   g r a t i t u d e   s e r v e ...</td>\n",
              "      <td>7</td>\n",
              "      <td>119</td>\n",
              "      <td>neutral</td>\n",
              "    </tr>\n",
              "    <tr>\n",
              "      <th>1</th>\n",
              "      <td>16-11-11</td>\n",
              "      <td>13:33:35</td>\n",
              "      <td>Busy day planned in New York. Will soon be mak...</td>\n",
              "      <td>text</td>\n",
              "      <td>NaN</td>\n",
              "      <td>NaN</td>\n",
              "      <td>7.970000e+17</td>\n",
              "      <td>https://twitter.com/realDonaldTrump/status/797...</td>\n",
              "      <td>141527</td>\n",
              "      <td>28654</td>\n",
              "      <td>New York soon making important decisions peopl...</td>\n",
              "      <td>new york soon making important decisions peopl...</td>\n",
              "      <td>new york soon make import decis peopl run govern</td>\n",
              "      <td>new york soon mak import decid peopl run govern</td>\n",
              "      <td>new york soon make import decis peopl run govern</td>\n",
              "      <td>new york soon making important decision people...</td>\n",
              "      <td>n e w   y o r k   s o o n   m a k i n g   i m ...</td>\n",
              "      <td>9</td>\n",
              "      <td>129</td>\n",
              "      <td>positive</td>\n",
              "    </tr>\n",
              "    <tr>\n",
              "      <th>2</th>\n",
              "      <td>16-11-11</td>\n",
              "      <td>11:14:20</td>\n",
              "      <td>Love the fact that the small groups of protest...</td>\n",
              "      <td>text</td>\n",
              "      <td>NaN</td>\n",
              "      <td>NaN</td>\n",
              "      <td>7.970000e+17</td>\n",
              "      <td>https://twitter.com/realDonaldTrump/status/797...</td>\n",
              "      <td>183729</td>\n",
              "      <td>50039</td>\n",
              "      <td>small groups protesters last night passion gre...</td>\n",
              "      <td>small groups protesters last night passion gre...</td>\n",
              "      <td>small group protest last night passion great c...</td>\n",
              "      <td>smal group protest last night pass gre country...</td>\n",
              "      <td>small group protest last night passion great c...</td>\n",
              "      <td>small group protester last night passion great...</td>\n",
              "      <td>s m a l l   g r o u p   p r o t e s t e r   l ...</td>\n",
              "      <td>11</td>\n",
              "      <td>147</td>\n",
              "      <td>positive</td>\n",
              "    </tr>\n",
              "    <tr>\n",
              "      <th>3</th>\n",
              "      <td>16-11-11</td>\n",
              "      <td>2:19:44</td>\n",
              "      <td>Just had a very open and successful presidenti...</td>\n",
              "      <td>text</td>\n",
              "      <td>NaN</td>\n",
              "      <td>NaN</td>\n",
              "      <td>7.970000e+17</td>\n",
              "      <td>https://twitter.com/realDonaldTrump/status/796...</td>\n",
              "      <td>214001</td>\n",
              "      <td>67010</td>\n",
              "      <td>open successful presidential election professi...</td>\n",
              "      <td>open successful presidential election professi...</td>\n",
              "      <td>open success presidenti elect profession prote...</td>\n",
              "      <td>op success presid elect profess protest incit ...</td>\n",
              "      <td>open success presidenti elect profession prote...</td>\n",
              "      <td>open successful presidential election professi...</td>\n",
              "      <td>o p e n   s u c c e s s f u l   p r e s i d e ...</td>\n",
              "      <td>10</td>\n",
              "      <td>185</td>\n",
              "      <td>positive</td>\n",
              "    </tr>\n",
              "    <tr>\n",
              "      <th>4</th>\n",
              "      <td>16-11-11</td>\n",
              "      <td>2:10:46</td>\n",
              "      <td>A fantastic day in D.C. Met with President Oba...</td>\n",
              "      <td>text</td>\n",
              "      <td>NaN</td>\n",
              "      <td>NaN</td>\n",
              "      <td>7.970000e+17</td>\n",
              "      <td>https://twitter.com/realDonaldTrump/status/796...</td>\n",
              "      <td>178499</td>\n",
              "      <td>36688</td>\n",
              "      <td>DC Met President Obama first time Really good ...</td>\n",
              "      <td>dc met president obama first time really good ...</td>\n",
              "      <td>dc met presid obama first time realli good mee...</td>\n",
              "      <td>dc met presid obam first tim real good meet gr...</td>\n",
              "      <td>dc met presid obama first time realli good mee...</td>\n",
              "      <td>dc met president obama first time really good ...</td>\n",
              "      <td>d c   m e t   p r e s i d e n t   o b a m a   ...</td>\n",
              "      <td>15</td>\n",
              "      <td>179</td>\n",
              "      <td>positive</td>\n",
              "    </tr>\n",
              "  </tbody>\n",
              "</table>\n",
              "</div>"
            ],
            "text/plain": [
              "       Date      Time  ... review_len polarity_encoded\n",
              "0  16-11-11  15:26:37  ...        119          neutral\n",
              "1  16-11-11  13:33:35  ...        129         positive\n",
              "2  16-11-11  11:14:20  ...        147         positive\n",
              "3  16-11-11   2:19:44  ...        185         positive\n",
              "4  16-11-11   2:10:46  ...        179         positive\n",
              "\n",
              "[5 rows x 20 columns]"
            ]
          },
          "metadata": {},
          "execution_count": 42
        }
      ]
    },
    {
      "cell_type": "code",
      "metadata": {
        "id": "SusD7ii1Brrb"
      },
      "source": [
        "from sklearn.feature_extraction.text import TfidfVectorizer\n",
        "\n",
        "vectorizer = TfidfVectorizer(lowercase=True,ngram_range = (1,1),stop_words='english')"
      ],
      "execution_count": 43,
      "outputs": []
    },
    {
      "cell_type": "code",
      "metadata": {
        "id": "NLyqGWivCYgW"
      },
      "source": [
        "X = tweet['processed_text']\n",
        "y = tweet['polarity_encoded']"
      ],
      "execution_count": 44,
      "outputs": []
    },
    {
      "cell_type": "code",
      "metadata": {
        "colab": {
          "base_uri": "https://localhost:8080/"
        },
        "id": "8jvu3jkqCKAm",
        "outputId": "bbad2476-27d5-4f9f-95b2-f253f3abfabd"
      },
      "source": [
        "X_vect = vectorizer.fit_transform(X)\n",
        "df_vect = pd.DataFrame(X_vect.toarray(),columns=vectorizer.get_feature_names())\n",
        "print(df_vect.head())\n",
        "print(df_vect.shape)\n"
      ],
      "execution_count": 45,
      "outputs": [
        {
          "output_type": "stream",
          "name": "stdout",
          "text": [
            "    00  007llisav  00patriot   08  08102015  ...  zuckermans  ωtime   ԍԍ  ԏԏԏ   լլ\n",
            "0  0.0        0.0        0.0  0.0       0.0  ...         0.0    0.0  0.0  0.0  0.0\n",
            "1  0.0        0.0        0.0  0.0       0.0  ...         0.0    0.0  0.0  0.0  0.0\n",
            "2  0.0        0.0        0.0  0.0       0.0  ...         0.0    0.0  0.0  0.0  0.0\n",
            "3  0.0        0.0        0.0  0.0       0.0  ...         0.0    0.0  0.0  0.0  0.0\n",
            "4  0.0        0.0        0.0  0.0       0.0  ...         0.0    0.0  0.0  0.0  0.0\n",
            "\n",
            "[5 rows x 11778 columns]\n",
            "(7375, 11778)\n"
          ]
        }
      ]
    },
    {
      "cell_type": "code",
      "metadata": {
        "colab": {
          "base_uri": "https://localhost:8080/"
        },
        "id": "Zsx_FKuCC6Nh",
        "outputId": "39889dc8-7dde-4f0b-eeff-cd62ba9483cc"
      },
      "source": [
        "from sklearn.model_selection import train_test_split\n",
        "X_train,X_test,y_train,y_test=train_test_split(df_vect,y,test_size=0.20,random_state=7)\n",
        "print(X_train.shape)\n",
        "print(X_test.shape)\n",
        "print(y_train.shape)\n",
        "print(y_test.shape)"
      ],
      "execution_count": 46,
      "outputs": [
        {
          "output_type": "stream",
          "name": "stdout",
          "text": [
            "(5900, 11778)\n",
            "(1475, 11778)\n",
            "(5900,)\n",
            "(1475,)\n"
          ]
        }
      ]
    },
    {
      "cell_type": "code",
      "metadata": {
        "id": "KGPrgKtCDsxu"
      },
      "source": [
        "del X_vect\n",
        "del df_vect"
      ],
      "execution_count": 47,
      "outputs": []
    },
    {
      "cell_type": "code",
      "metadata": {
        "id": "pQCsqi0-D54h"
      },
      "source": [
        "import warnings\n",
        "warnings.filterwarnings('ignore')"
      ],
      "execution_count": 48,
      "outputs": []
    },
    {
      "cell_type": "code",
      "metadata": {
        "colab": {
          "base_uri": "https://localhost:8080/"
        },
        "id": "bCbsdAaaEE93",
        "outputId": "34e1d3b5-9453-4e63-afb4-66a88f32a2c1"
      },
      "source": [
        "from sklearn.model_selection import cross_val_score,KFold\n",
        "\n",
        "from sklearn.neighbors import KNeighborsClassifier\n",
        "from sklearn.linear_model import LogisticRegression\n",
        "\n",
        "from sklearn.ensemble import RandomForestClassifier\n",
        "\n",
        "models = []\n",
        "models.append(('knn', KNeighborsClassifier()))\n",
        "\n",
        "models.append(('Random Forest', RandomForestClassifier()))\n",
        "\n",
        "\n",
        "for name,model in models:\n",
        "  kfold = KFold(n_splits=5,random_state=7)\n",
        "  cross_val_sc=cross_val_score(model,X_train,y_train,scoring=\"accuracy\",cv=kfold)\n",
        "  print('{} : acc: {}(standard deviation: {})'.format(name,cross_val_sc.mean(),cross_val_sc.std()))"
      ],
      "execution_count": 49,
      "outputs": [
        {
          "output_type": "stream",
          "name": "stdout",
          "text": [
            "knn : acc: 0.3996610169491525(standard deviation: 0.016568609369288043)\n",
            "Random Forest : acc: 0.8238983050847457(standard deviation: 0.01143785275851051)\n"
          ]
        }
      ]
    },
    {
      "cell_type": "markdown",
      "metadata": {
        "id": "fuenF_GwGXkn"
      },
      "source": [
        "**Ques15: Find the most positive and most negative tweet using polarity score**"
      ]
    },
    {
      "cell_type": "code",
      "metadata": {
        "id": "3jGRu_YjGEXy",
        "colab": {
          "base_uri": "https://localhost:8080/"
        },
        "outputId": "f189d0c2-e3dc-4d45-f111-410fd8bee79d"
      },
      "source": [
        "print(\"The most positive tweet:\",tweet.iloc[tweet['polarity'].idxmax()]['processed_text'])\n",
        "print(\"The most negative tweet:\",tweet.iloc[tweet['polarity'].idxmin()]['processed_text'])"
      ],
      "execution_count": 50,
      "outputs": [
        {
          "output_type": "stream",
          "name": "stdout",
          "text": [
            "The most positive tweet: thank law enforcement officers vpdebate police officers best us mikepence\n",
            "The most negative tweet: lead border securityno solutions ideas credibilityshe supported nafta worst deal us history debate\n"
          ]
        }
      ]
    },
    {
      "cell_type": "markdown",
      "metadata": {
        "id": "0ya0RZugHOLE"
      },
      "source": [
        "**Ques16: Find the parts of speech (POS) for most positive and most negative tweet**"
      ]
    },
    {
      "cell_type": "code",
      "metadata": {
        "id": "EIGdr0itHLmm"
      },
      "source": [
        "sent = tweet.iloc[tweet['polarity'].idxmax()]['processed_text']\n",
        "sent_tokens = word_tokenize(sent)"
      ],
      "execution_count": 51,
      "outputs": []
    },
    {
      "cell_type": "code",
      "metadata": {
        "id": "KIjyxMvcH74O",
        "colab": {
          "base_uri": "https://localhost:8080/"
        },
        "outputId": "fcb85db8-8611-46c2-b5d8-702084cfd4fe"
      },
      "source": [
        "for token in sent_tokens:\n",
        "  print(nltk.pos_tag([token]))"
      ],
      "execution_count": 52,
      "outputs": [
        {
          "output_type": "stream",
          "name": "stdout",
          "text": [
            "[('thank', 'NN')]\n",
            "[('law', 'NN')]\n",
            "[('enforcement', 'NN')]\n",
            "[('officers', 'NNS')]\n",
            "[('vpdebate', 'NN')]\n",
            "[('police', 'NNS')]\n",
            "[('officers', 'NNS')]\n",
            "[('best', 'JJS')]\n",
            "[('us', 'PRP')]\n",
            "[('mikepence', 'NN')]\n"
          ]
        }
      ]
    },
    {
      "cell_type": "code",
      "metadata": {
        "id": "8rKpO6aVIJlM"
      },
      "source": [
        "sent = tweet.iloc[tweet['polarity'].idxmin()]['processed_text']\n",
        "sent_tokens = word_tokenize(sent)"
      ],
      "execution_count": 53,
      "outputs": []
    },
    {
      "cell_type": "code",
      "metadata": {
        "id": "O_vPjfdzIUHZ",
        "colab": {
          "base_uri": "https://localhost:8080/"
        },
        "outputId": "7169e29f-4989-400b-9e52-d757bfa123fb"
      },
      "source": [
        "for token in sent_tokens:\n",
        "  print(nltk.pos_tag([token]))"
      ],
      "execution_count": 54,
      "outputs": [
        {
          "output_type": "stream",
          "name": "stdout",
          "text": [
            "[('lead', 'NN')]\n",
            "[('border', 'NN')]\n",
            "[('securityno', 'NN')]\n",
            "[('solutions', 'NNS')]\n",
            "[('ideas', 'NNS')]\n",
            "[('credibilityshe', 'NN')]\n",
            "[('supported', 'VBN')]\n",
            "[('nafta', 'NN')]\n",
            "[('worst', 'JJS')]\n",
            "[('deal', 'NN')]\n",
            "[('us', 'PRP')]\n",
            "[('history', 'NN')]\n",
            "[('debate', 'NN')]\n"
          ]
        }
      ]
    },
    {
      "cell_type": "markdown",
      "metadata": {
        "id": "as1Qd-BKIlhm"
      },
      "source": [
        "**Ques17: Apply Named Entity Recognition (NER) for most positive and most negative write your inference**"
      ]
    },
    {
      "cell_type": "markdown",
      "metadata": {
        "id": "iw91Ja1iJca1"
      },
      "source": [
        "NER is a method of associating the named entities to their appropriate types\n",
        "\n",
        "It also helps in automatic identificaton and counting of occurances of named entities in a collection of information "
      ]
    },
    {
      "cell_type": "code",
      "metadata": {
        "id": "P1ndOfQlIdSQ",
        "colab": {
          "base_uri": "https://localhost:8080/"
        },
        "outputId": "9eb53659-4e1f-4a18-a048-d0cf88a270b2"
      },
      "source": [
        "from nltk import ne_chunk\n",
        "ne_sent = tweet.iloc[tweet['polarity'].idxmax()]['processed_text']\n",
        "ne_tokens = word_tokenize(ne_sent)\n",
        "ne_tags = nltk.pos_tag(ne_tokens)\n",
        "ne_ner = ne_chunk(ne_tags)\n",
        "print(ne_ner)"
      ],
      "execution_count": 55,
      "outputs": [
        {
          "output_type": "stream",
          "name": "stdout",
          "text": [
            "(S\n",
            "  thank/NN\n",
            "  law/NN\n",
            "  enforcement/NN\n",
            "  officers/NNS\n",
            "  vpdebate/VBP\n",
            "  police/NNS\n",
            "  officers/NNS\n",
            "  best/VBP\n",
            "  us/PRP\n",
            "  mikepence/NN)\n"
          ]
        }
      ]
    },
    {
      "cell_type": "code",
      "metadata": {
        "id": "3PsZIlw9KyeO",
        "colab": {
          "base_uri": "https://localhost:8080/"
        },
        "outputId": "3d7ecad9-1b57-4591-9756-523b90886e59"
      },
      "source": [
        "from nltk import ne_chunk\n",
        "ne_sent = tweet.iloc[tweet['polarity'].idxmin()]['processed_text']\n",
        "ne_tokens = word_tokenize(ne_sent)\n",
        "ne_tags = nltk.pos_tag(ne_tokens)\n",
        "ne_ner = ne_chunk(ne_tags)\n",
        "print(ne_ner)"
      ],
      "execution_count": 56,
      "outputs": [
        {
          "output_type": "stream",
          "name": "stdout",
          "text": [
            "(S\n",
            "  lead/JJ\n",
            "  border/NN\n",
            "  securityno/JJ\n",
            "  solutions/NNS\n",
            "  ideas/NNS\n",
            "  credibilityshe/VBP\n",
            "  supported/VBD\n",
            "  nafta/JJ\n",
            "  worst/JJS\n",
            "  deal/VB\n",
            "  us/PRP\n",
            "  history/NN\n",
            "  debate/NN)\n"
          ]
        }
      ]
    },
    {
      "cell_type": "code",
      "metadata": {
        "id": "445kya9MLh5-"
      },
      "source": [
        ""
      ],
      "execution_count": 56,
      "outputs": []
    }
  ]
}