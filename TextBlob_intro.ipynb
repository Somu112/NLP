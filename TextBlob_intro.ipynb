{
  "nbformat": 4,
  "nbformat_minor": 0,
  "metadata": {
    "colab": {
      "name": "TextBlob_intro",
      "provenance": [],
      "authorship_tag": "ABX9TyMrjacUd7M5TktAmUVOT+pQ",
      "include_colab_link": true
    },
    "kernelspec": {
      "name": "python3",
      "display_name": "Python 3"
    },
    "language_info": {
      "name": "python"
    },
    "accelerator": "GPU"
  },
  "cells": [
    {
      "cell_type": "markdown",
      "metadata": {
        "id": "view-in-github",
        "colab_type": "text"
      },
      "source": [
        "<a href=\"https://colab.research.google.com/github/Somu112/NLP/blob/main/TextBlob_intro.ipynb\" target=\"_parent\"><img src=\"https://colab.research.google.com/assets/colab-badge.svg\" alt=\"Open In Colab\"/></a>"
      ]
    },
    {
      "cell_type": "code",
      "metadata": {
        "colab": {
          "base_uri": "https://localhost:8080/"
        },
        "id": "TJBDdB0gje9H",
        "outputId": "951296e7-fb6f-49fe-c51a-712f5be164b1"
      },
      "source": [
        "!pip show nltk"
      ],
      "execution_count": 1,
      "outputs": [
        {
          "output_type": "stream",
          "name": "stdout",
          "text": [
            "Name: nltk\n",
            "Version: 3.2.5\n",
            "Summary: Natural Language Toolkit\n",
            "Home-page: http://nltk.org/\n",
            "Author: Steven Bird\n",
            "Author-email: stevenbird1@gmail.com\n",
            "License: Apache License, Version 2.0\n",
            "Location: /usr/local/lib/python3.7/dist-packages\n",
            "Requires: six\n",
            "Required-by: textblob\n"
          ]
        }
      ]
    },
    {
      "cell_type": "code",
      "metadata": {
        "colab": {
          "base_uri": "https://localhost:8080/"
        },
        "id": "Lkpr6YzOkAGq",
        "outputId": "1b4f5861-11e8-4167-db21-d5820671512b"
      },
      "source": [
        "!pip install -U textblob"
      ],
      "execution_count": 2,
      "outputs": [
        {
          "output_type": "stream",
          "name": "stdout",
          "text": [
            "Requirement already satisfied: textblob in /usr/local/lib/python3.7/dist-packages (0.15.3)\n",
            "Requirement already satisfied: nltk>=3.1 in /usr/local/lib/python3.7/dist-packages (from textblob) (3.2.5)\n",
            "Requirement already satisfied: six in /usr/local/lib/python3.7/dist-packages (from nltk>=3.1->textblob) (1.15.0)\n"
          ]
        }
      ]
    },
    {
      "cell_type": "code",
      "metadata": {
        "id": "9ItC7LxfkHTd"
      },
      "source": [
        "from textblob import TextBlob"
      ],
      "execution_count": 3,
      "outputs": []
    },
    {
      "cell_type": "code",
      "metadata": {
        "id": "jQi2TdzCkSsI"
      },
      "source": [
        "wiki = TextBlob(\"I love Natural Language Processing!!!\")"
      ],
      "execution_count": 4,
      "outputs": []
    },
    {
      "cell_type": "code",
      "metadata": {
        "colab": {
          "base_uri": "https://localhost:8080/"
        },
        "id": "4LFu02BXkgwG",
        "outputId": "47011d27-fc7a-41c2-9dc5-8018c80d3061"
      },
      "source": [
        "print(type(wiki))"
      ],
      "execution_count": 5,
      "outputs": [
        {
          "output_type": "stream",
          "name": "stdout",
          "text": [
            "<class 'textblob.blob.TextBlob'>\n"
          ]
        }
      ]
    },
    {
      "cell_type": "code",
      "metadata": {
        "colab": {
          "base_uri": "https://localhost:8080/"
        },
        "id": "0-SS8NGDkl-H",
        "outputId": "0849c561-c7e9-417e-8002-94586fefbcfc"
      },
      "source": [
        "!python -m textblob.download_corpora"
      ],
      "execution_count": 6,
      "outputs": [
        {
          "output_type": "stream",
          "name": "stdout",
          "text": [
            "[nltk_data] Downloading package brown to /root/nltk_data...\n",
            "[nltk_data]   Unzipping corpora/brown.zip.\n",
            "[nltk_data] Downloading package punkt to /root/nltk_data...\n",
            "[nltk_data]   Unzipping tokenizers/punkt.zip.\n",
            "[nltk_data] Downloading package wordnet to /root/nltk_data...\n",
            "[nltk_data]   Unzipping corpora/wordnet.zip.\n",
            "[nltk_data] Downloading package averaged_perceptron_tagger to\n",
            "[nltk_data]     /root/nltk_data...\n",
            "[nltk_data]   Unzipping taggers/averaged_perceptron_tagger.zip.\n",
            "[nltk_data] Downloading package conll2000 to /root/nltk_data...\n",
            "[nltk_data]   Unzipping corpora/conll2000.zip.\n",
            "[nltk_data] Downloading package movie_reviews to /root/nltk_data...\n",
            "[nltk_data]   Unzipping corpora/movie_reviews.zip.\n",
            "Finished.\n"
          ]
        }
      ]
    },
    {
      "cell_type": "code",
      "metadata": {
        "colab": {
          "base_uri": "https://localhost:8080/"
        },
        "id": "HhRzyEwTkwny",
        "outputId": "e53a1271-ffd2-4073-b6e2-4129fa4de498"
      },
      "source": [
        "wiki.tags"
      ],
      "execution_count": 7,
      "outputs": [
        {
          "output_type": "execute_result",
          "data": {
            "text/plain": [
              "[('I', 'PRP'),\n",
              " ('love', 'VBP'),\n",
              " ('Natural', 'JJ'),\n",
              " ('Language', 'NNP'),\n",
              " ('Processing', 'NN')]"
            ]
          },
          "metadata": {},
          "execution_count": 7
        }
      ]
    },
    {
      "cell_type": "code",
      "metadata": {
        "colab": {
          "base_uri": "https://localhost:8080/"
        },
        "id": "17Rm6qZtk5KA",
        "outputId": "b68e0998-7581-4f1e-8664-745aa0ab3307"
      },
      "source": [
        "doc1 = TextBlob(\"Apple is soon going to launch iphone 13!\")\n",
        "doc1.noun_phrases"
      ],
      "execution_count": 8,
      "outputs": [
        {
          "output_type": "execute_result",
          "data": {
            "text/plain": [
              "WordList(['apple', 'launch iphone'])"
            ]
          },
          "metadata": {},
          "execution_count": 8
        }
      ]
    },
    {
      "cell_type": "markdown",
      "metadata": {
        "id": "HTXMUfoclX0Z"
      },
      "source": [
        "# **Sentiment Analysis**"
      ]
    },
    {
      "cell_type": "markdown",
      "metadata": {
        "id": "tR4MselGl762"
      },
      "source": [
        "**To find the sentiment of any given text, in TextBlob, we simply use the Sentiment API or function, which results into 2 outcomes:**\n",
        "\n",
        "* polarity\n",
        "  * float value within the range of [-1.0, +1.0]\n",
        "  * -1.0 means highly negative polarity or sentiment.\n",
        "  * +1.0 means highly positive polarity or sentiment.\n",
        "* subjectivity\n",
        "  * float value within range [0.0, 1.0]\n",
        "  * 0.0 means the text is objective.\n",
        "  * 1.0 means the text is subjective."
      ]
    },
    {
      "cell_type": "code",
      "metadata": {
        "id": "kLuVqjXXlROh"
      },
      "source": [
        "testimonial = TextBlob(\"Testblob is an amazing simple to use library in python. what great fun!!!\")"
      ],
      "execution_count": 10,
      "outputs": []
    },
    {
      "cell_type": "code",
      "metadata": {
        "colab": {
          "base_uri": "https://localhost:8080/"
        },
        "id": "MAE9AlthmvHD",
        "outputId": "21c7bb06-410a-415e-a569-d694bb085f8e"
      },
      "source": [
        "testimonial.sentiment"
      ],
      "execution_count": 11,
      "outputs": [
        {
          "output_type": "execute_result",
          "data": {
            "text/plain": [
              "Sentiment(polarity=0.49648437500000003, subjectivity=0.5517857142857143)"
            ]
          },
          "metadata": {},
          "execution_count": 11
        }
      ]
    },
    {
      "cell_type": "code",
      "metadata": {
        "id": "-R9mIilZm3WE"
      },
      "source": [
        "student = TextBlob(\"Textblob is amazing. what GREAT fun.\")"
      ],
      "execution_count": 12,
      "outputs": []
    },
    {
      "cell_type": "code",
      "metadata": {
        "colab": {
          "base_uri": "https://localhost:8080/"
        },
        "id": "DElVXKUUnHba",
        "outputId": "7de605c2-317f-45d4-d1c0-cc7254515c51"
      },
      "source": [
        "student.sentiment"
      ],
      "execution_count": 13,
      "outputs": [
        {
          "output_type": "execute_result",
          "data": {
            "text/plain": [
              "Sentiment(polarity=0.5666666666666668, subjectivity=0.6166666666666666)"
            ]
          },
          "metadata": {},
          "execution_count": 13
        }
      ]
    },
    {
      "cell_type": "code",
      "metadata": {
        "colab": {
          "base_uri": "https://localhost:8080/"
        },
        "id": "L9CqOA2MnLli",
        "outputId": "64ebd4e3-6d03-48b9-e7d0-7deacab1eb1d"
      },
      "source": [
        "student = TextBlob(\"Textblob is GREAT!!!\")\n",
        "student.sentiment"
      ],
      "execution_count": 14,
      "outputs": [
        {
          "output_type": "execute_result",
          "data": {
            "text/plain": [
              "Sentiment(polarity=1.0, subjectivity=0.75)"
            ]
          },
          "metadata": {},
          "execution_count": 14
        }
      ]
    },
    {
      "cell_type": "code",
      "metadata": {
        "colab": {
          "base_uri": "https://localhost:8080/"
        },
        "id": "A2Ao6NeunboM",
        "outputId": "c314baf3-91ea-440b-96e5-51a0296b7cec"
      },
      "source": [
        "student = TextBlob(\"Textblob is NOT GREAT!!!\")\n",
        "student.sentiment"
      ],
      "execution_count": 15,
      "outputs": [
        {
          "output_type": "execute_result",
          "data": {
            "text/plain": [
              "Sentiment(polarity=-0.5, subjectivity=0.75)"
            ]
          },
          "metadata": {},
          "execution_count": 15
        }
      ]
    },
    {
      "cell_type": "code",
      "metadata": {
        "id": "SxREDlSVng2Z"
      },
      "source": [
        "!pip install -U PyPDF2 > /dev/null"
      ],
      "execution_count": 16,
      "outputs": []
    },
    {
      "cell_type": "code",
      "metadata": {
        "colab": {
          "base_uri": "https://localhost:8080/"
        },
        "id": "aTimR5Vbp4QV",
        "outputId": "2bca492c-2851-4ac7-fd95-719df722176f"
      },
      "source": [
        "# import PyPDF2\n",
        "import PyPDF2\n",
        "\n",
        "# read the file. \n",
        "f = open(\"/content/Declaration_ReadTheDeclaration.pdf\",\"rb\")\n",
        "\n",
        "# process the PDF text. \n",
        "pdf_reader = PyPDF2.PdfFileReader(f)\n",
        "\n",
        "# Let's for example concentrate only on the first page. \n",
        "page_one = pdf_reader.getPage(0)\n",
        "\n",
        "# extracting the actual text of page# 1\n",
        "page_one_text = page_one.extractText()\n",
        "\n",
        "# let's pass this over to TextBlob!\n",
        "entire_page_one_tb = TextBlob(page_one_text)\n",
        "\n",
        "# find the sentiment. \n",
        "entire_page_one_tb.sentiment"
      ],
      "execution_count": 17,
      "outputs": [
        {
          "output_type": "stream",
          "name": "stderr",
          "text": [
            "PdfReadWarning: Xref table not zero-indexed. ID numbers for objects will be corrected. [pdf.py:1736]\n"
          ]
        },
        {
          "output_type": "execute_result",
          "data": {
            "text/plain": [
              "Sentiment(polarity=0.1059874539041206, subjectivity=0.49682840307840304)"
            ]
          },
          "metadata": {},
          "execution_count": 17
        }
      ]
    },
    {
      "cell_type": "markdown",
      "metadata": {
        "id": "WbvNqD5JqWcA"
      },
      "source": [
        "***Tokenization, Word Inflection & Lemmatization ***"
      ]
    },
    {
      "cell_type": "code",
      "metadata": {
        "id": "7wmQmXDbqI4H"
      },
      "source": [
        "my_sentence = TextBlob(\"In today's class we are exploring all aspects of this new library that we are learning.\")"
      ],
      "execution_count": 18,
      "outputs": []
    },
    {
      "cell_type": "code",
      "metadata": {
        "colab": {
          "base_uri": "https://localhost:8080/"
        },
        "id": "TxnfEaWeqsGb",
        "outputId": "c2561f41-7c02-4131-ae0f-f7451b74b4a9"
      },
      "source": [
        "my_sentence.words"
      ],
      "execution_count": 19,
      "outputs": [
        {
          "output_type": "execute_result",
          "data": {
            "text/plain": [
              "WordList(['In', 'today', \"'s\", 'class', 'we', 'are', 'exploring', 'all', 'aspects', 'of', 'this', 'new', 'library', 'that', 'we', 'are', 'learning'])"
            ]
          },
          "metadata": {},
          "execution_count": 19
        }
      ]
    },
    {
      "cell_type": "code",
      "metadata": {
        "colab": {
          "base_uri": "https://localhost:8080/"
        },
        "id": "VZP-XQ3oquoQ",
        "outputId": "00cc8f56-1b4e-42fd-a56a-700053440f4b"
      },
      "source": [
        "my_sentence = TextBlob(\"This is first sentence. This is second sentence.\")\n",
        "my_sentence.sentences\n",
        "for each_sent in my_sentence.sentences:\n",
        "  print(str(each_sent))"
      ],
      "execution_count": 20,
      "outputs": [
        {
          "output_type": "stream",
          "name": "stdout",
          "text": [
            "This is first sentence.\n",
            "This is second sentence.\n"
          ]
        }
      ]
    },
    {
      "cell_type": "code",
      "metadata": {
        "colab": {
          "base_uri": "https://localhost:8080/"
        },
        "id": "3HzOp36QrBmX",
        "outputId": "e351e29e-bc94-471e-a5cf-3e631eaab163"
      },
      "source": [
        "my_sentence = TextBlob(\"Use 4 spaces per indentation level in Python.\")\n",
        "print(my_sentence.words[2].singularize())"
      ],
      "execution_count": 22,
      "outputs": [
        {
          "output_type": "stream",
          "name": "stdout",
          "text": [
            "space\n"
          ]
        }
      ]
    },
    {
      "cell_type": "code",
      "metadata": {
        "colab": {
          "base_uri": "https://localhost:8080/"
        },
        "id": "S2lYsoqGrS8i",
        "outputId": "a9403316-2db0-4f19-861f-abe8f96b7be4"
      },
      "source": [
        "print(my_sentence.words[4].pluralize())"
      ],
      "execution_count": 23,
      "outputs": [
        {
          "output_type": "stream",
          "name": "stdout",
          "text": [
            "indentations\n"
          ]
        }
      ]
    },
    {
      "cell_type": "code",
      "metadata": {
        "colab": {
          "base_uri": "https://localhost:8080/"
        },
        "id": "Z_JEUIUhrqQZ",
        "outputId": "bcb9dc49-c865-47ba-d621-7a68a2ed46a2"
      },
      "source": [
        "my_sentence = TextBlob(\"In today's class we are exploring all aspects of this new library that we are learning.\")\n",
        "[each_word.lemmatize() for each_word in my_sentence.words]"
      ],
      "execution_count": 24,
      "outputs": [
        {
          "output_type": "execute_result",
          "data": {
            "text/plain": [
              "['In',\n",
              " 'today',\n",
              " \"'s\",\n",
              " 'class',\n",
              " 'we',\n",
              " 'are',\n",
              " 'exploring',\n",
              " 'all',\n",
              " 'aspect',\n",
              " 'of',\n",
              " 'this',\n",
              " 'new',\n",
              " 'library',\n",
              " 'that',\n",
              " 'we',\n",
              " 'are',\n",
              " 'learning']"
            ]
          },
          "metadata": {},
          "execution_count": 24
        }
      ]
    },
    {
      "cell_type": "markdown",
      "metadata": {
        "id": "Vf0NSTG_sXFi"
      },
      "source": [
        "# **WordNet Integration**"
      ]
    },
    {
      "cell_type": "markdown",
      "metadata": {
        "id": "HA_q14jjse3P"
      },
      "source": [
        "* WordNet is a globally used Lexical database!!!\n",
        "* Also it is as of date the dictionary of English language.\n",
        "* Using TextBlob's capability to integrate with WordNet we can perform basic operations like Synset (set of synonyms) or more commonly used functionalities like Spelling correction and language detection."
      ]
    },
    {
      "cell_type": "code",
      "metadata": {
        "id": "AdMnL1oer4ui"
      },
      "source": [
        "from textblob import Word\n",
        "from textblob.wordnet import VERB"
      ],
      "execution_count": 26,
      "outputs": []
    },
    {
      "cell_type": "code",
      "metadata": {
        "colab": {
          "base_uri": "https://localhost:8080/"
        },
        "id": "7fLiAdTTs2j-",
        "outputId": "b2982186-0033-4aa0-9fda-017f65138143"
      },
      "source": [
        "word = Word(\"Goat\")\n",
        "word.synsets"
      ],
      "execution_count": 27,
      "outputs": [
        {
          "output_type": "execute_result",
          "data": {
            "text/plain": [
              "[Synset('goat.n.01'),\n",
              " Synset('butt.n.03'),\n",
              " Synset('capricorn.n.01'),\n",
              " Synset('capricorn.n.03')]"
            ]
          },
          "metadata": {},
          "execution_count": 27
        }
      ]
    },
    {
      "cell_type": "code",
      "metadata": {
        "colab": {
          "base_uri": "https://localhost:8080/"
        },
        "id": "oCT_jNT6tCLU",
        "outputId": "48cd3be4-c61c-4188-8e15-79f1d553ad67"
      },
      "source": [
        "word = Word(\"Hero\")\n",
        "word.synsets"
      ],
      "execution_count": 30,
      "outputs": [
        {
          "output_type": "execute_result",
          "data": {
            "text/plain": [
              "[Synset('hero.n.01'),\n",
              " Synset('hero.n.02'),\n",
              " Synset('champion.n.02'),\n",
              " Synset('hero.n.04'),\n",
              " Synset('hero.n.05'),\n",
              " Synset('hero.n.06'),\n",
              " Synset('bomber.n.03')]"
            ]
          },
          "metadata": {},
          "execution_count": 30
        }
      ]
    },
    {
      "cell_type": "code",
      "metadata": {
        "colab": {
          "base_uri": "https://localhost:8080/"
        },
        "id": "v-v0xvFYtHs3",
        "outputId": "e5737b70-a19f-4a0d-d54b-72ff13aa1d08"
      },
      "source": [
        "Word(\"Hero\").definitions"
      ],
      "execution_count": 31,
      "outputs": [
        {
          "output_type": "execute_result",
          "data": {
            "text/plain": [
              "['a man distinguished by exceptional courage and nobility and strength',\n",
              " 'the principal character in a play or movie or novel or poem',\n",
              " 'someone who fights for a cause',\n",
              " 'Greek mathematician and inventor who devised a way to determine the area of a triangle and who described various mechanical devices (first century)',\n",
              " '(classical mythology) a being of great strength and courage celebrated for bold exploits; often the offspring of a mortal and a god',\n",
              " '(Greek mythology) priestess of Aphrodite who killed herself when her lover Leander drowned while trying to swim the Hellespont to see her',\n",
              " 'a large sandwich made of a long crusty roll split lengthwise and filled with meats and cheese (and tomato and onion and lettuce and condiments); different names are used in different sections of the United States']"
            ]
          },
          "metadata": {},
          "execution_count": 31
        }
      ]
    },
    {
      "cell_type": "code",
      "metadata": {
        "colab": {
          "base_uri": "https://localhost:8080/"
        },
        "id": "daiUPxbRtYTQ",
        "outputId": "f38461d8-ed2a-44a2-edd5-167a7b348cd3"
      },
      "source": [
        "# let's try to take the example of spell checks. \n",
        "my_sentence = TextBlob(\"Can you pronounce czechuslovakia?\")\n",
        "print(my_sentence.correct()) "
      ],
      "execution_count": 32,
      "outputs": [
        {
          "output_type": "stream",
          "name": "stdout",
          "text": [
            "An you pronounce czechoslovakia?\n"
          ]
        }
      ]
    },
    {
      "cell_type": "code",
      "metadata": {
        "colab": {
          "base_uri": "https://localhost:8080/"
        },
        "id": "doGKavq-tgjv",
        "outputId": "1c333918-7682-4165-9c8e-8abb44deec7f"
      },
      "source": [
        "my_sentence = TextBlob(\"Longptude\")\n",
        "print(my_sentence.correct())"
      ],
      "execution_count": 34,
      "outputs": [
        {
          "output_type": "stream",
          "name": "stdout",
          "text": [
            "Longitude\n"
          ]
        }
      ]
    },
    {
      "cell_type": "code",
      "metadata": {
        "colab": {
          "base_uri": "https://localhost:8080/"
        },
        "id": "syfmWK9vtylz",
        "outputId": "1c5e7ee5-918e-4349-c2c2-0b54d7d7dc24"
      },
      "source": [
        "my_word = Word(\"longit\")\n",
        "my_word.spellcheck()"
      ],
      "execution_count": 35,
      "outputs": [
        {
          "output_type": "execute_result",
          "data": {
            "text/plain": [
              "[('long', 0.7736143637782982),\n",
              " ('longer', 0.18110850897736144),\n",
              " ('longed', 0.01795472287275566),\n",
              " ('longus', 0.01092896174863388),\n",
              " ('logic', 0.00858704137392662),\n",
              " ('longing', 0.00546448087431694),\n",
              " ('longest', 0.00156128024980484),\n",
              " ('login', 0.00078064012490242)]"
            ]
          },
          "metadata": {},
          "execution_count": 35
        }
      ]
    },
    {
      "cell_type": "markdown",
      "metadata": {
        "id": "MzCCSByYuOyz"
      },
      "source": [
        "**IMPORTANT: To perform Language detection, TextBlob uses Google Translate APIs. So, if we are running this implementation or set of commands from a system which does not have access to Google Translate APIs over the internet, then this functionality will not work!**"
      ]
    },
    {
      "cell_type": "code",
      "metadata": {
        "colab": {
          "base_uri": "https://localhost:8080/",
          "height": 129
        },
        "id": "3J-A3utWubNx",
        "outputId": "158ba350-a178-4aee-e787-1dfb47fbeb0e"
      },
      "source": [
        "eng_statement = TextBlob(I want to go home.)\n",
        "eng_statement.Translate(to='hi')"
      ],
      "execution_count": 36,
      "outputs": [
        {
          "output_type": "error",
          "ename": "SyntaxError",
          "evalue": "ignored",
          "traceback": [
            "\u001b[0;36m  File \u001b[0;32m\"<ipython-input-36-44681e76b76e>\"\u001b[0;36m, line \u001b[0;32m1\u001b[0m\n\u001b[0;31m    eng_statement = TextBlob(I want to go home.)\u001b[0m\n\u001b[0m                                  ^\u001b[0m\n\u001b[0;31mSyntaxError\u001b[0m\u001b[0;31m:\u001b[0m invalid syntax\n"
          ]
        }
      ]
    },
    {
      "cell_type": "markdown",
      "metadata": {
        "id": "Mbvnh7r7xMMZ"
      },
      "source": [
        "# **Text Classification**"
      ]
    },
    {
      "cell_type": "code",
      "metadata": {
        "id": "QVWdqIoWu3vc"
      },
      "source": [
        "# creating the dataset which we will use for this example. \n",
        "train = [\n",
        "     ('I love this sandwich.', 'pos'),\n",
        "     ('this is an amazing place!', 'pos'),\n",
        "     ('I feel very good about these beers.', 'pos'),\n",
        "     ('this is my best work.', 'pos'),\n",
        "     (\"what an awesome view\", 'pos'),\n",
        "     ('I do not like this restaurant', 'neg'),\n",
        "     ('I am tired of this stuff.', 'neg'),\n",
        "     (\"I can't deal with this\", 'neg'),\n",
        "     ('he is my sworn enemy!', 'neg'),\n",
        "     ('my boss is horrible.', 'neg')\n",
        "]\n",
        "\n",
        "test = [\n",
        "     ('the beer was good.', 'pos'),\n",
        "     ('I do not enjoy my job', 'neg'),\n",
        "     (\"I ain't feeling dandy today.\", 'neg'),\n",
        "     (\"I feel amazing!\", 'pos'),\n",
        "     ('Gary is a friend of mine.', 'pos'),\n",
        "     (\"I can't believe I'm doing this.\", 'neg')\n",
        "]"
      ],
      "execution_count": 37,
      "outputs": []
    },
    {
      "cell_type": "code",
      "metadata": {
        "id": "Sc2vqmv-vD0L"
      },
      "source": [
        "from textblob.classifiers import NaiveBayesClassifier"
      ],
      "execution_count": 39,
      "outputs": []
    },
    {
      "cell_type": "code",
      "metadata": {
        "id": "JpY6lxFavO3T"
      },
      "source": [
        "cl = NaiveBayesClassifier(train)"
      ],
      "execution_count": 40,
      "outputs": []
    },
    {
      "cell_type": "code",
      "metadata": {
        "colab": {
          "base_uri": "https://localhost:8080/"
        },
        "id": "y_OvYrSZvdvQ",
        "outputId": "6f97df85-8587-4965-8832-cad9886b3613"
      },
      "source": [
        "print(type(cl))"
      ],
      "execution_count": 41,
      "outputs": [
        {
          "output_type": "stream",
          "name": "stdout",
          "text": [
            "<class 'textblob.classifiers.NaiveBayesClassifier'>\n"
          ]
        }
      ]
    },
    {
      "cell_type": "code",
      "metadata": {
        "id": "9SdaeXkavg2h"
      },
      "source": [
        "review_1 = test[0][0]"
      ],
      "execution_count": 42,
      "outputs": []
    },
    {
      "cell_type": "code",
      "metadata": {
        "colab": {
          "base_uri": "https://localhost:8080/",
          "height": 35
        },
        "id": "0xLCoUlxvols",
        "outputId": "f6837d1d-042c-454b-82b2-44837f0b5e22"
      },
      "source": [
        "cl.classify(review_1)"
      ],
      "execution_count": 43,
      "outputs": [
        {
          "output_type": "execute_result",
          "data": {
            "application/vnd.google.colaboratory.intrinsic+json": {
              "type": "string"
            },
            "text/plain": [
              "'pos'"
            ]
          },
          "metadata": {},
          "execution_count": 43
        }
      ]
    },
    {
      "cell_type": "code",
      "metadata": {
        "colab": {
          "base_uri": "https://localhost:8080/"
        },
        "id": "n4186zL4vtLN",
        "outputId": "44e4efa5-4cbc-4f4b-df2c-8c786b6dde3e"
      },
      "source": [
        "prob_dist = cl.prob_classify(review_1)\n",
        "print(prob_dist.max())\n",
        "print(prob_dist.prob(\"pos\"))"
      ],
      "execution_count": 44,
      "outputs": [
        {
          "output_type": "stream",
          "name": "stdout",
          "text": [
            "pos\n",
            "0.8625254582484727\n"
          ]
        }
      ]
    },
    {
      "cell_type": "code",
      "metadata": {
        "colab": {
          "base_uri": "https://localhost:8080/",
          "height": 35
        },
        "id": "_XSK7NXjwAb9",
        "outputId": "13dfd5ff-380e-4f6d-ab14-a38e1494d95e"
      },
      "source": [
        "# the basic principle of classification still holds true\n",
        "# if we provide a sentence to this classifier which is completely out of context, how does it perform? \n",
        "sent = TextBlob(\"TextBlob is a black box classifier solution which is not something I like.\", classifier=cl)\n",
        "sent.classify()"
      ],
      "execution_count": 45,
      "outputs": [
        {
          "output_type": "execute_result",
          "data": {
            "application/vnd.google.colaboratory.intrinsic+json": {
              "type": "string"
            },
            "text/plain": [
              "'neg'"
            ]
          },
          "metadata": {},
          "execution_count": 45
        }
      ]
    },
    {
      "cell_type": "code",
      "metadata": {
        "id": "00fL1klpwGgx"
      },
      "source": [
        "entire_page_one_tb = TextBlob(page_one_text, classifier=cl)\n"
      ],
      "execution_count": 46,
      "outputs": []
    },
    {
      "cell_type": "code",
      "metadata": {
        "colab": {
          "base_uri": "https://localhost:8080/",
          "height": 35
        },
        "id": "yyvzLlQDwblk",
        "outputId": "828c2577-28af-47f7-affb-b31217ff82e3"
      },
      "source": [
        "entire_page_one_tb.classify()"
      ],
      "execution_count": 47,
      "outputs": [
        {
          "output_type": "execute_result",
          "data": {
            "application/vnd.google.colaboratory.intrinsic+json": {
              "type": "string"
            },
            "text/plain": [
              "'neg'"
            ]
          },
          "metadata": {},
          "execution_count": 47
        }
      ]
    },
    {
      "cell_type": "code",
      "metadata": {
        "colab": {
          "base_uri": "https://localhost:8080/"
        },
        "id": "zmd9Gi29whzV",
        "outputId": "263367a4-5c28-40a2-cad2-d974e3149afe"
      },
      "source": [
        "for each_sent in entire_page_one_tb.sentences:\n",
        "  print(each_sent)\n",
        "  print(\"\")\n",
        "  print(each_sent.classify())\n",
        "  print(\"==================\")"
      ],
      "execution_count": 48,
      "outputs": [
        {
          "output_type": "stream",
          "name": "stdout",
          "text": [
            "The Declaration of Independence:  Read the Declaration  \n",
            "(Continued)The Declaration of IndependenceAction of Second Continental Congress,July 4, 1776.\n",
            "\n",
            "neg\n",
            "==================\n",
            "The unanimous Declaration of the thirteen united States of America,\n",
            "When in the Course of human Events, it becomes necessary for one People to dissolve the Political Bands \n",
            " which have connected them with another, and to assume among the Powers of the Earth, the separate and equal \n",
            "\n",
            "Station to which the Laws of Nature and of Nature™s God entitle them, a decent Respect to the Opinions of \n",
            " \n",
            "Mankind requires that they should declare the causes which impel them to the Separation.\n",
            "\n",
            "neg\n",
            "==================\n",
            "We hold these Truths to be self-evident, that all Men are created equal, that they are endowed by their Creator with \n",
            "certain unalienable Rights, that among these are Life, Liberty, and the Pursuit of HappinessŠThat to secure these \n",
            "\n",
            "Rights, Governments are instituted among Men, deriving their just Powers from the Consent of the Governed, that \n",
            "\n",
            "whenever any form of Government becomes destructive of these Ends, it is the Right of the People to alter or to \n",
            "\n",
            "abolish it, and to institute new Government, laying its Foundation on such Principles, and organizing its Powers in \n",
            "\n",
            "such form, as to them shall seem most likely to effect their Safety and Happiness.\n",
            "\n",
            "neg\n",
            "==================\n",
            "Prudence, indeed, will dictate that \n",
            "\n",
            "Governments long established should not be changed for light and transient Causes; and accordingly all Experi\n",
            "-\n",
            "ence hath shewn, that Mankind are more disposed to suffer, while Evils are sufferable, than to right themselves by \n",
            "\n",
            "abolishing the forms to which they are accustomed.\n",
            "\n",
            "neg\n",
            "==================\n",
            "But when a long Train of Abuses and Usurpations, pursuing \n",
            "\n",
            "invariably the same Object, evinces a Design to reduce them under absolute Despotism, it is their Right, it is their \n",
            "Duty, to throw off such Government, and to provide new Guards for their future Security.\n",
            "\n",
            "neg\n",
            "==================\n",
            "Such has been the patient \n",
            "Sufferance of these Colonies; and such is now the Necessity which constrains them to alter their former Systems \n",
            "of Government.\n",
            "\n",
            "pos\n",
            "==================\n",
            "The History of the present King of Great-Britain is a History of repeated Injuries and Usurpations, \n",
            "\n",
            "all having in direct Object the Establishment of an absolute Tyranny over these States.\n",
            "\n",
            "pos\n",
            "==================\n",
            "To prove this, let Facts be \n",
            "\n",
            "submitted to a candid World.\n",
            "\n",
            "pos\n",
            "==================\n",
            "He has refused his Assent to Laws, the most wholesome and necessary for the public Good.\n",
            "\n",
            "pos\n",
            "==================\n",
            "He has forbidden his Governors to pass Laws of immediate and pressing Importance, unless suspended in their \n",
            "\n",
            "Operation till his Assent should be obtained; and when so suspended, he has utterly neglected to attend to them.\n",
            "\n",
            "neg\n",
            "==================\n",
            "He has refused to pass other Laws for the Accommodation of large Districts of People, unless those People would \n",
            "\n",
            "relinquish the Right of Representation in the Legislature, a Right inestimable to them, and formidable to Tyrants only.\n",
            "\n",
            "neg\n",
            "==================\n",
            "He has called together Legislative Bodies at Places unusual, uncomfortable, and distant from the Depository of their \n",
            "public Records, for the sole Purpose of fatiguing them into Compliance with his Measures.\n",
            "\n",
            "neg\n",
            "==================\n",
            "He has dissolved Representative Houses repeatedly, for opposing with manly Firmness his Invasions on the Rights \n",
            "\n",
            "of the People.\n",
            "\n",
            "neg\n",
            "==================\n",
            "He has refused for a long Time, after such Dissolutions, to cause others to be elected; whereby the Legislative \n",
            "Powers, incapable of Annihilation, have returned to the People at large for their exercise; the State remaining in the \n",
            "\n",
            "mean time exposed to all the Dangers of Invasion from without, and Convulsions within.\n",
            "\n",
            "neg\n",
            "==================\n"
          ]
        }
      ]
    },
    {
      "cell_type": "code",
      "metadata": {
        "id": "S_X0TRpVw4H0"
      },
      "source": [
        ""
      ],
      "execution_count": null,
      "outputs": []
    }
  ]
}